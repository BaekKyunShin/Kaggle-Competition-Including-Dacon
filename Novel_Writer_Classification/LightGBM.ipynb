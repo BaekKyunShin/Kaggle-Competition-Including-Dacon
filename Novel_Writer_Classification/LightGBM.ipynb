{
  "nbformat": 4,
  "nbformat_minor": 0,
  "metadata": {
    "colab": {
      "name": "LightGBM.ipynb",
      "provenance": [],
      "collapsed_sections": [],
      "authorship_tag": "ABX9TyOPqsK2u8mupBEuidKq+qbs",
      "include_colab_link": true
    },
    "kernelspec": {
      "name": "python3",
      "display_name": "Python 3"
    },
    "accelerator": "GPU"
  },
  "cells": [
    {
      "cell_type": "markdown",
      "metadata": {
        "id": "view-in-github",
        "colab_type": "text"
      },
      "source": [
        "<a href=\"https://colab.research.google.com/github/BaekKyunShin/Kaggle-Competition-Including-Dacon/blob/master/Novel_Writer_Classification/LightGBM.ipynb\" target=\"_parent\"><img src=\"https://colab.research.google.com/assets/colab-badge.svg\" alt=\"Open In Colab\"/></a>"
      ]
    },
    {
      "cell_type": "markdown",
      "metadata": {
        "id": "P6zf4Ghac3sk"
      },
      "source": [
        "# LightGBM"
      ]
    },
    {
      "cell_type": "code",
      "metadata": {
        "id": "BnLczqFkjJFX",
        "outputId": "1d33cf28-4577-4f92-c8c8-abafac608573",
        "colab": {
          "base_uri": "https://localhost:8080/"
        }
      },
      "source": [
        "from google.colab import auth\n",
        "auth.authenticate_user()\n",
        "\n",
        "from google.colab import drive\n",
        "drive.mount('/content/gdrive', force_remount=True)"
      ],
      "execution_count": 73,
      "outputs": [
        {
          "output_type": "stream",
          "text": [
            "Mounted at /content/gdrive\n"
          ],
          "name": "stdout"
        }
      ]
    },
    {
      "cell_type": "code",
      "metadata": {
        "id": "sDbCKKSnjUwB"
      },
      "source": [
        "import pandas as pd\n",
        "import numpy as np\n",
        "\n",
        "# nltk\n",
        "import nltk\n",
        "from nltk.corpus import stopwords \n",
        "\n",
        "# 모델링\n",
        "import lightgbm as gbm\n",
        "from sklearn.feature_extraction.text import TfidfVectorizer,CountVectorizer\n",
        "from sklearn.preprocessing import LabelEncoder\n",
        "from sklearn.model_selection import KFold, StratifiedKFold\n",
        "from sklearn.metrics import log_loss\n",
        "\n",
        "# 기타\n",
        "import os\n",
        "import re\n",
        "import easydict\n",
        "import gc"
      ],
      "execution_count": 74,
      "outputs": []
    },
    {
      "cell_type": "code",
      "metadata": {
        "id": "UnlEuOSaP0_6",
        "outputId": "974176bf-81ab-4421-effa-66df07f26832",
        "colab": {
          "base_uri": "https://localhost:8080/"
        }
      },
      "source": [
        "# 전역변수 설정\n",
        "args = easydict.EasyDict({ 'chdir': '/content/gdrive/My Drive/colab/Dacon_Novel_Writer_Classification/',\n",
        "                          'train_dir': 'open/train.csv', \n",
        "                          'test_dir': 'open/test_x.csv',\n",
        "                          'submission_dir': 'open/sample_submission.csv',\n",
        "                          'fianl_submission_dir': 'open/submission.csv',\n",
        "                          'max_len': 100,\n",
        "                          'epochs': 1,\n",
        "                          'learning_rate': 0.01,\n",
        "                          'wd': 1e-5,\n",
        "                          'batch_size': 64,\n",
        "                          'train': True})\n",
        "\n",
        "# device 설정\n",
        "device = 'cuda' if torch.cuda.is_available() else 'cpu'\n",
        "print(device)"
      ],
      "execution_count": 75,
      "outputs": [
        {
          "output_type": "stream",
          "text": [
            "cuda\n"
          ],
          "name": "stdout"
        }
      ]
    },
    {
      "cell_type": "code",
      "metadata": {
        "id": "AfDTNW9sjjx8"
      },
      "source": [
        "# 경로 설정\n",
        "os.chdir(args.chdir)\n",
        "\n",
        "# 파일 불러오기\n",
        "train = pd.read_csv(args.train_dir, encoding='utf-8')\n",
        "test = pd.read_csv(args.test_dir, encoding='utf-8')\n",
        "sample_submission = pd.read_csv(args.submission_dir, encoding='utf-8')\n",
        "\n",
        "train.drop('index', axis=1, inplace=True)\n",
        "test.drop('index', axis=1, inplace=True)"
      ],
      "execution_count": 77,
      "outputs": []
    },
    {
      "cell_type": "code",
      "metadata": {
        "id": "7YhNjgM4jnfD",
        "outputId": "7ca70e97-79b0-4113-c3fe-1c3e4b184b4d",
        "colab": {
          "base_uri": "https://localhost:8080/",
          "height": 110
        }
      },
      "source": [
        "train.head(2)"
      ],
      "execution_count": 78,
      "outputs": [
        {
          "output_type": "execute_result",
          "data": {
            "text/html": [
              "<div>\n",
              "<style scoped>\n",
              "    .dataframe tbody tr th:only-of-type {\n",
              "        vertical-align: middle;\n",
              "    }\n",
              "\n",
              "    .dataframe tbody tr th {\n",
              "        vertical-align: top;\n",
              "    }\n",
              "\n",
              "    .dataframe thead th {\n",
              "        text-align: right;\n",
              "    }\n",
              "</style>\n",
              "<table border=\"1\" class=\"dataframe\">\n",
              "  <thead>\n",
              "    <tr style=\"text-align: right;\">\n",
              "      <th></th>\n",
              "      <th>text</th>\n",
              "      <th>author</th>\n",
              "    </tr>\n",
              "  </thead>\n",
              "  <tbody>\n",
              "    <tr>\n",
              "      <th>0</th>\n",
              "      <td>He was almost choking. There was so much, so m...</td>\n",
              "      <td>3</td>\n",
              "    </tr>\n",
              "    <tr>\n",
              "      <th>1</th>\n",
              "      <td>“Your sister asked for it, I suppose?”</td>\n",
              "      <td>2</td>\n",
              "    </tr>\n",
              "  </tbody>\n",
              "</table>\n",
              "</div>"
            ],
            "text/plain": [
              "                                                text  author\n",
              "0  He was almost choking. There was so much, so m...       3\n",
              "1             “Your sister asked for it, I suppose?”       2"
            ]
          },
          "metadata": {
            "tags": []
          },
          "execution_count": 78
        }
      ]
    },
    {
      "cell_type": "code",
      "metadata": {
        "id": "rrO2vDSkjotL",
        "outputId": "47a49b29-c47f-4cee-9f87-e30cbc7ca232",
        "colab": {
          "base_uri": "https://localhost:8080/",
          "height": 110
        }
      },
      "source": [
        "test.head(2)"
      ],
      "execution_count": 79,
      "outputs": [
        {
          "output_type": "execute_result",
          "data": {
            "text/html": [
              "<div>\n",
              "<style scoped>\n",
              "    .dataframe tbody tr th:only-of-type {\n",
              "        vertical-align: middle;\n",
              "    }\n",
              "\n",
              "    .dataframe tbody tr th {\n",
              "        vertical-align: top;\n",
              "    }\n",
              "\n",
              "    .dataframe thead th {\n",
              "        text-align: right;\n",
              "    }\n",
              "</style>\n",
              "<table border=\"1\" class=\"dataframe\">\n",
              "  <thead>\n",
              "    <tr style=\"text-align: right;\">\n",
              "      <th></th>\n",
              "      <th>text</th>\n",
              "    </tr>\n",
              "  </thead>\n",
              "  <tbody>\n",
              "    <tr>\n",
              "      <th>0</th>\n",
              "      <td>“Not at all. I think she is one of the most ch...</td>\n",
              "    </tr>\n",
              "    <tr>\n",
              "      <th>1</th>\n",
              "      <td>\"No,\" replied he, with sudden consciousness, \"...</td>\n",
              "    </tr>\n",
              "  </tbody>\n",
              "</table>\n",
              "</div>"
            ],
            "text/plain": [
              "                                                text\n",
              "0  “Not at all. I think she is one of the most ch...\n",
              "1  \"No,\" replied he, with sudden consciousness, \"..."
            ]
          },
          "metadata": {
            "tags": []
          },
          "execution_count": 79
        }
      ]
    },
    {
      "cell_type": "code",
      "metadata": {
        "id": "t0emzQSbjuHG",
        "outputId": "0a6a4289-2243-41e0-c9d9-a766c67697c5",
        "colab": {
          "base_uri": "https://localhost:8080/",
          "height": 110
        }
      },
      "source": [
        "sample_submission.head(2)"
      ],
      "execution_count": 80,
      "outputs": [
        {
          "output_type": "execute_result",
          "data": {
            "text/html": [
              "<div>\n",
              "<style scoped>\n",
              "    .dataframe tbody tr th:only-of-type {\n",
              "        vertical-align: middle;\n",
              "    }\n",
              "\n",
              "    .dataframe tbody tr th {\n",
              "        vertical-align: top;\n",
              "    }\n",
              "\n",
              "    .dataframe thead th {\n",
              "        text-align: right;\n",
              "    }\n",
              "</style>\n",
              "<table border=\"1\" class=\"dataframe\">\n",
              "  <thead>\n",
              "    <tr style=\"text-align: right;\">\n",
              "      <th></th>\n",
              "      <th>index</th>\n",
              "      <th>0</th>\n",
              "      <th>1</th>\n",
              "      <th>2</th>\n",
              "      <th>3</th>\n",
              "      <th>4</th>\n",
              "    </tr>\n",
              "  </thead>\n",
              "  <tbody>\n",
              "    <tr>\n",
              "      <th>0</th>\n",
              "      <td>0</td>\n",
              "      <td>0</td>\n",
              "      <td>0</td>\n",
              "      <td>0</td>\n",
              "      <td>0</td>\n",
              "      <td>0</td>\n",
              "    </tr>\n",
              "    <tr>\n",
              "      <th>1</th>\n",
              "      <td>1</td>\n",
              "      <td>0</td>\n",
              "      <td>0</td>\n",
              "      <td>0</td>\n",
              "      <td>0</td>\n",
              "      <td>0</td>\n",
              "    </tr>\n",
              "  </tbody>\n",
              "</table>\n",
              "</div>"
            ],
            "text/plain": [
              "   index  0  1  2  3  4\n",
              "0      0  0  0  0  0  0\n",
              "1      1  0  0  0  0  0"
            ]
          },
          "metadata": {
            "tags": []
          },
          "execution_count": 80
        }
      ]
    },
    {
      "cell_type": "markdown",
      "metadata": {
        "id": "zDnL4kdiIIQW"
      },
      "source": [
        "# Preprocessing"
      ]
    },
    {
      "cell_type": "code",
      "metadata": {
        "id": "t_ez2J3Cj2T1",
        "outputId": "81ff22bf-0c85-45f2-f1da-dc3af907cc21",
        "colab": {
          "base_uri": "https://localhost:8080/"
        }
      },
      "source": [
        "# 불용어\n",
        "basic_stopwords = { \"a\", \"about\", \"above\", \"after\", \"again\", \"against\", \"all\", \"am\", \"an\", \"and\", \"any\", \"are\", \"as\", \n",
        "             \"at\", \"be\", \"because\", \"been\", \"before\", \"being\", \"below\", \"between\", \"both\", \"but\", \"by\", \"could\", \n",
        "             \"did\", \"do\", \"does\", \"doing\", \"down\", \"during\", \"each\", \"few\", \"for\", \"from\", \"further\", \"had\", \"has\", \n",
        "             \"have\", \"having\", \"he\", \"he'd\", \"he'll\", \"he's\", \"her\", \"here\", \"here's\", \"hers\", \"herself\", \"him\", \"himself\", \n",
        "             \"his\", \"how\", \"how's\", \"i\", \"i'd\", \"i'll\", \"i'm\", \"i've\", \"if\", \"in\", \"into\", \"is\", \"it\", \"it's\", \"its\", \"itself\", \n",
        "             \"let's\", \"me\", \"more\", \"most\", \"my\", \"myself\", \"nor\", \"of\", \"on\", \"once\", \"only\", \"or\", \"other\", \"ought\", \"our\", \"ours\", \n",
        "             \"ourselves\", \"out\", \"over\", \"own\", \"same\", \"she\", \"she'd\", \"she'll\", \"she's\", \"should\", \"so\", \"some\", \"such\", \"than\", \"that\", \n",
        "             \"that's\", \"the\", \"their\", \"theirs\", \"them\", \"themselves\", \"then\", \"there\", \"there's\", \"these\", \"they\", \"they'd\", \"they'll\", \n",
        "             \"they're\", \"they've\", \"this\", \"those\", \"through\", \"to\", \"too\", \"under\", \"until\", \"up\", \"very\", \"was\", \"we\", \"we'd\", \"we'll\", \n",
        "             \"we're\", \"we've\", \"were\", \"what\", \"what's\", \"when\", \"when's\", \"where\", \"where's\", \"which\", \"while\", \"who\", \"who's\", \"whom\", \n",
        "             \"why\", \"why's\", \"with\", \"would\", \"you\", \"you'd\", \"you'll\", \"you're\", \"you've\", \"your\", \"yours\", \"yourself\", \"yourselves\" }\n",
        "\n",
        "nltk.download('stopwords')\n",
        "nltk_stopwords = set(stopwords.words('english'))\n",
        "\n",
        "final_stopwords = nltk_stopwords.union(basic_stopwords)"
      ],
      "execution_count": 81,
      "outputs": [
        {
          "output_type": "stream",
          "text": [
            "[nltk_data] Downloading package stopwords to /root/nltk_data...\n",
            "[nltk_data]   Package stopwords is already up-to-date!\n"
          ],
          "name": "stdout"
        }
      ]
    },
    {
      "cell_type": "code",
      "metadata": {
        "id": "iAhyS5GEj4Za"
      },
      "source": [
        "# 부호를 제거해주는 함수\n",
        "def alpha_num(text):\n",
        "    return re.sub(r'[^A-Za-z0-9 ]', '', text)\n",
        "\n",
        "# 불용어 제거해주는 함수\n",
        "def remove_stopwords(text: str):\n",
        "    final_text = []\n",
        "    for i in text.split():\n",
        "        if i.strip().lower() not in final_stopwords:\n",
        "            final_text.append(i.strip())\n",
        "    return \" \".join(final_text)\n",
        "    \n",
        "# 전처리 적용\n",
        "train['text']=train['text'].apply(alpha_num)\n",
        "test['text']=test['text'].apply(alpha_num)\n",
        "train['text'] = train['text'].str.lower()\n",
        "test['text'] = test['text'].str.lower()\n",
        "train['text'] = train['text'].apply(alpha_num).apply(remove_stopwords)\n",
        "test['text'] = test['text'].apply(alpha_num).apply(remove_stopwords)"
      ],
      "execution_count": 82,
      "outputs": []
    },
    {
      "cell_type": "markdown",
      "metadata": {
        "id": "_N4XeaPINYwx"
      },
      "source": [
        "# Vectorizing"
      ]
    },
    {
      "cell_type": "code",
      "metadata": {
        "id": "GIwoIqAWys8w",
        "outputId": "03bc9e53-05e2-4633-f8f4-2e6bc174335a",
        "colab": {
          "base_uri": "https://localhost:8080/"
        }
      },
      "source": [
        "# Count Vectorizer\n",
        "count_vec=CountVectorizer(ngram_range=(1,2), min_df=5, binary=True, max_features=3000) \n",
        "train_cv=count_vec.fit_transform(train['text'])\n",
        "print(\"CountVectorized train dataset shape: \", train_cv.toarray().shape)\n",
        "\n",
        "# CSR 형식으로 변경\n",
        "X_cv = train_cv.tocsr().toarray()\n",
        "\n",
        "# Test Data에도 동일하게 적용\n",
        "test_cv = count_vec.transform(test['text'])\n",
        "test_cv = test_cv.tocsr().toarray()"
      ],
      "execution_count": 83,
      "outputs": [
        {
          "output_type": "execute_result",
          "data": {
            "text/plain": [
              "(54879, 3000)"
            ]
          },
          "metadata": {
            "tags": []
          },
          "execution_count": 83
        }
      ]
    },
    {
      "cell_type": "code",
      "metadata": {
        "id": "xYMYW4RaytLh",
        "outputId": "1804859a-715d-478c-d396-89169bf32ce7",
        "colab": {
          "base_uri": "https://localhost:8080/"
        }
      },
      "source": [
        "# TF-IDF Vectorizer\n",
        "tfidf_vec=TfidfVectorizer(ngram_range=(1,2), min_df=3, max_df=0.4, sublinear_tf=True, norm='l2', max_features=5500) \n",
        "train_tfidf=tfidf_vec.fit_transform(train['text'])\n",
        "print(\"TF-IDF Vectorized train dataset shape: \", train_tfidf.toarray().shape)\n",
        "\n",
        "# CSR 형식으로 변경\n",
        "X_tfidf = train_tfidf.tocsr().toarray()\n",
        "\n",
        "# Test Data에도 동일하게 적용\n",
        "test_tfidf = tfidf_vec.transform(test['text'])\n",
        "test_tfidf = test_tfidf.tocsr().toarray()"
      ],
      "execution_count": 87,
      "outputs": [
        {
          "output_type": "stream",
          "text": [
            "/usr/local/lib/python3.6/dist-packages/sklearn/feature_extraction/text.py:1817: UserWarning: Only (<class 'numpy.float64'>, <class 'numpy.float32'>, <class 'numpy.float16'>) 'dtype' should be used. <class 'numpy.uint8'> 'dtype' will be converted to np.float64.\n",
            "  UserWarning)\n"
          ],
          "name": "stderr"
        },
        {
          "output_type": "execute_result",
          "data": {
            "text/plain": [
              "(54879, 5500)"
            ]
          },
          "metadata": {
            "tags": []
          },
          "execution_count": 87
        }
      ]
    },
    {
      "cell_type": "code",
      "metadata": {
        "id": "5RqVxiXJ4E_Q"
      },
      "source": [
        "y = train['author']\n",
        "dtest = test['text']"
      ],
      "execution_count": 89,
      "outputs": []
    },
    {
      "cell_type": "code",
      "metadata": {
        "id": "BfvmMaFV2hdm"
      },
      "source": [
        "Dparam = {'objective' : 'multiclass',\n",
        "          'boosting_type': 'gbdt',\n",
        "          'num_class': 5,\n",
        "          'metric' : 'multi_logloss',\n",
        "          #'max_bin':350,\n",
        "          'max_depth':20,\n",
        "          'min_child_weight': 8,\n",
        "          'bagging_fraction':0.75,\n",
        "          'feature_fraction':0.75,\n",
        "          'lambda_l1':0.1,\n",
        "          'lambda_l2':0.1,\n",
        "          'num_leaves':31} "
      ],
      "execution_count": 90,
      "outputs": []
    },
    {
      "cell_type": "code",
      "metadata": {
        "id": "UVq6ydST2hIh",
        "outputId": "5abb80f5-5248-4669-d51c-a6e987119736",
        "colab": {
          "base_uri": "https://localhost:8080/"
        }
      },
      "source": [
        "print(\"Training Model\")\n",
        "\n",
        "folds = KFold(n_splits=5, shuffle=True, random_state=50001)\n",
        "oof_preds = np.zeros((train.shape[0], 5))\n",
        "sub_preds = np.zeros((test.shape[0], 5))\n",
        "\n",
        "for n_fold, (trn_idx, val_idx) in enumerate(folds.split(train1)):\n",
        "    dtrain =gbm.Dataset(train1[trn_idx], y[trn_idx])\n",
        "    dval =gbm.Dataset(train1[val_idx], y[val_idx])\n",
        "    m_gbm=gbm.train(params=Dparam,train_set=dtrain,num_boost_round=300,verbose_eval=50,valid_sets=[dtrain,dval],valid_names=['train','valid'])\n",
        "    oof_preds[val_idx] = m_gbm.predict(train1[val_idx])\n",
        "    sub_preds += m_gbm.predict(test1) / folds.n_splits\n",
        "    print('Fold %2d log_loss : %.6f' % (n_fold + 1, log_loss(y.iloc[val_idx],oof_preds[val_idx])))\n",
        "    del dtrain,dval\n",
        "    gc.collect()\n",
        "    \n",
        "print('Full log_loss score %.6f' % log_loss(y, oof_preds))   \n"
      ],
      "execution_count": 91,
      "outputs": [
        {
          "output_type": "stream",
          "text": [
            "Training Model\n",
            "[50]\ttrain's multi_logloss: 1.08529\tvalid's multi_logloss: 1.10801\n",
            "[100]\ttrain's multi_logloss: 0.964401\tvalid's multi_logloss: 1.01106\n",
            "[150]\ttrain's multi_logloss: 0.895627\tvalid's multi_logloss: 0.959538\n",
            "[200]\ttrain's multi_logloss: 0.847641\tvalid's multi_logloss: 0.926687\n",
            "[250]\ttrain's multi_logloss: 0.810251\tvalid's multi_logloss: 0.903244\n",
            "[300]\ttrain's multi_logloss: 0.780516\tvalid's multi_logloss: 0.886156\n",
            "Fold  1 log_loss : 0.886156\n",
            "[50]\ttrain's multi_logloss: 1.08003\tvalid's multi_logloss: 1.12726\n",
            "[100]\ttrain's multi_logloss: 0.958278\tvalid's multi_logloss: 1.03483\n",
            "[150]\ttrain's multi_logloss: 0.889107\tvalid's multi_logloss: 0.985649\n",
            "[200]\ttrain's multi_logloss: 0.840695\tvalid's multi_logloss: 0.953136\n",
            "[250]\ttrain's multi_logloss: 0.803812\tvalid's multi_logloss: 0.9304\n",
            "[300]\ttrain's multi_logloss: 0.773727\tvalid's multi_logloss: 0.91317\n",
            "Fold  2 log_loss : 0.913170\n",
            "[50]\ttrain's multi_logloss: 1.08129\tvalid's multi_logloss: 1.1227\n",
            "[100]\ttrain's multi_logloss: 0.960347\tvalid's multi_logloss: 1.02577\n",
            "[150]\ttrain's multi_logloss: 0.890756\tvalid's multi_logloss: 0.975905\n",
            "[200]\ttrain's multi_logloss: 0.841856\tvalid's multi_logloss: 0.943817\n",
            "[250]\ttrain's multi_logloss: 0.804508\tvalid's multi_logloss: 0.92078\n",
            "[300]\ttrain's multi_logloss: 0.774479\tvalid's multi_logloss: 0.9045\n",
            "Fold  3 log_loss : 0.904500\n",
            "[50]\ttrain's multi_logloss: 1.081\tvalid's multi_logloss: 1.12646\n",
            "[100]\ttrain's multi_logloss: 0.960166\tvalid's multi_logloss: 1.02827\n",
            "[150]\ttrain's multi_logloss: 0.890856\tvalid's multi_logloss: 0.976974\n",
            "[200]\ttrain's multi_logloss: 0.843127\tvalid's multi_logloss: 0.943694\n",
            "[250]\ttrain's multi_logloss: 0.806136\tvalid's multi_logloss: 0.920227\n",
            "[300]\ttrain's multi_logloss: 0.775983\tvalid's multi_logloss: 0.902598\n",
            "Fold  4 log_loss : 0.902598\n",
            "[50]\ttrain's multi_logloss: 1.08591\tvalid's multi_logloss: 1.10462\n",
            "[100]\ttrain's multi_logloss: 0.964663\tvalid's multi_logloss: 1.00859\n",
            "[150]\ttrain's multi_logloss: 0.894428\tvalid's multi_logloss: 0.959378\n",
            "[200]\ttrain's multi_logloss: 0.846155\tvalid's multi_logloss: 0.927702\n",
            "[250]\ttrain's multi_logloss: 0.808767\tvalid's multi_logloss: 0.905333\n",
            "[300]\ttrain's multi_logloss: 0.778378\tvalid's multi_logloss: 0.889395\n",
            "Fold  5 log_loss : 0.889395\n",
            "Full log_loss score 0.899164\n"
          ],
          "name": "stdout"
        }
      ]
    },
    {
      "cell_type": "code",
      "metadata": {
        "id": "dx_1UOEZbFZB",
        "outputId": "03bae416-ded6-4dd7-dd51-e7934a6372f1",
        "colab": {
          "base_uri": "https://localhost:8080/",
          "height": 415
        }
      },
      "source": [
        "sample_submission[['0','1','2','3','4']] = sub_preds\n",
        "sample_submission"
      ],
      "execution_count": 98,
      "outputs": [
        {
          "output_type": "execute_result",
          "data": {
            "text/html": [
              "<div>\n",
              "<style scoped>\n",
              "    .dataframe tbody tr th:only-of-type {\n",
              "        vertical-align: middle;\n",
              "    }\n",
              "\n",
              "    .dataframe tbody tr th {\n",
              "        vertical-align: top;\n",
              "    }\n",
              "\n",
              "    .dataframe thead th {\n",
              "        text-align: right;\n",
              "    }\n",
              "</style>\n",
              "<table border=\"1\" class=\"dataframe\">\n",
              "  <thead>\n",
              "    <tr style=\"text-align: right;\">\n",
              "      <th></th>\n",
              "      <th>index</th>\n",
              "      <th>0</th>\n",
              "      <th>1</th>\n",
              "      <th>2</th>\n",
              "      <th>3</th>\n",
              "      <th>4</th>\n",
              "    </tr>\n",
              "  </thead>\n",
              "  <tbody>\n",
              "    <tr>\n",
              "      <th>0</th>\n",
              "      <td>0</td>\n",
              "      <td>0.087913</td>\n",
              "      <td>0.743220</td>\n",
              "      <td>0.087455</td>\n",
              "      <td>0.065654</td>\n",
              "      <td>0.015758</td>\n",
              "    </tr>\n",
              "    <tr>\n",
              "      <th>1</th>\n",
              "      <td>1</td>\n",
              "      <td>0.267783</td>\n",
              "      <td>0.257381</td>\n",
              "      <td>0.036826</td>\n",
              "      <td>0.081835</td>\n",
              "      <td>0.356175</td>\n",
              "    </tr>\n",
              "    <tr>\n",
              "      <th>2</th>\n",
              "      <td>2</td>\n",
              "      <td>0.831855</td>\n",
              "      <td>0.044657</td>\n",
              "      <td>0.026703</td>\n",
              "      <td>0.011769</td>\n",
              "      <td>0.085016</td>\n",
              "    </tr>\n",
              "    <tr>\n",
              "      <th>3</th>\n",
              "      <td>3</td>\n",
              "      <td>0.043759</td>\n",
              "      <td>0.003249</td>\n",
              "      <td>0.537496</td>\n",
              "      <td>0.006582</td>\n",
              "      <td>0.408914</td>\n",
              "    </tr>\n",
              "    <tr>\n",
              "      <th>4</th>\n",
              "      <td>4</td>\n",
              "      <td>0.235752</td>\n",
              "      <td>0.193583</td>\n",
              "      <td>0.104647</td>\n",
              "      <td>0.209781</td>\n",
              "      <td>0.256237</td>\n",
              "    </tr>\n",
              "    <tr>\n",
              "      <th>...</th>\n",
              "      <td>...</td>\n",
              "      <td>...</td>\n",
              "      <td>...</td>\n",
              "      <td>...</td>\n",
              "      <td>...</td>\n",
              "      <td>...</td>\n",
              "    </tr>\n",
              "    <tr>\n",
              "      <th>19612</th>\n",
              "      <td>19612</td>\n",
              "      <td>0.006282</td>\n",
              "      <td>0.990532</td>\n",
              "      <td>0.000435</td>\n",
              "      <td>0.002100</td>\n",
              "      <td>0.000651</td>\n",
              "    </tr>\n",
              "    <tr>\n",
              "      <th>19613</th>\n",
              "      <td>19613</td>\n",
              "      <td>0.542395</td>\n",
              "      <td>0.011797</td>\n",
              "      <td>0.018213</td>\n",
              "      <td>0.005852</td>\n",
              "      <td>0.421744</td>\n",
              "    </tr>\n",
              "    <tr>\n",
              "      <th>19614</th>\n",
              "      <td>19614</td>\n",
              "      <td>0.034763</td>\n",
              "      <td>0.955440</td>\n",
              "      <td>0.001644</td>\n",
              "      <td>0.006246</td>\n",
              "      <td>0.001907</td>\n",
              "    </tr>\n",
              "    <tr>\n",
              "      <th>19615</th>\n",
              "      <td>19615</td>\n",
              "      <td>0.075968</td>\n",
              "      <td>0.738185</td>\n",
              "      <td>0.095894</td>\n",
              "      <td>0.073060</td>\n",
              "      <td>0.016893</td>\n",
              "    </tr>\n",
              "    <tr>\n",
              "      <th>19616</th>\n",
              "      <td>19616</td>\n",
              "      <td>0.318806</td>\n",
              "      <td>0.068240</td>\n",
              "      <td>0.387190</td>\n",
              "      <td>0.102787</td>\n",
              "      <td>0.122978</td>\n",
              "    </tr>\n",
              "  </tbody>\n",
              "</table>\n",
              "<p>19617 rows × 6 columns</p>\n",
              "</div>"
            ],
            "text/plain": [
              "       index         0         1         2         3         4\n",
              "0          0  0.087913  0.743220  0.087455  0.065654  0.015758\n",
              "1          1  0.267783  0.257381  0.036826  0.081835  0.356175\n",
              "2          2  0.831855  0.044657  0.026703  0.011769  0.085016\n",
              "3          3  0.043759  0.003249  0.537496  0.006582  0.408914\n",
              "4          4  0.235752  0.193583  0.104647  0.209781  0.256237\n",
              "...      ...       ...       ...       ...       ...       ...\n",
              "19612  19612  0.006282  0.990532  0.000435  0.002100  0.000651\n",
              "19613  19613  0.542395  0.011797  0.018213  0.005852  0.421744\n",
              "19614  19614  0.034763  0.955440  0.001644  0.006246  0.001907\n",
              "19615  19615  0.075968  0.738185  0.095894  0.073060  0.016893\n",
              "19616  19616  0.318806  0.068240  0.387190  0.102787  0.122978\n",
              "\n",
              "[19617 rows x 6 columns]"
            ]
          },
          "metadata": {
            "tags": []
          },
          "execution_count": 98
        }
      ]
    },
    {
      "cell_type": "code",
      "metadata": {
        "id": "o8f25VHJytat"
      },
      "source": [
        "sample_submission.to_csv(args.fianl_submission_dir, index=False, encoding = 'utf-8')"
      ],
      "execution_count": 99,
      "outputs": []
    }
  ]
}