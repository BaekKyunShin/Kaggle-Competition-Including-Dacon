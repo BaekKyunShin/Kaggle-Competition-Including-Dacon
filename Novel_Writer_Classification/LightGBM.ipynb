{
  "nbformat": 4,
  "nbformat_minor": 0,
  "metadata": {
    "colab": {
      "name": "LightGBM.ipynb",
      "provenance": [],
      "collapsed_sections": [],
      "authorship_tag": "ABX9TyNr823F7tWR504WSjSd9bSW",
      "include_colab_link": true
    },
    "kernelspec": {
      "name": "python3",
      "display_name": "Python 3"
    },
    "accelerator": "GPU"
  },
  "cells": [
    {
      "cell_type": "markdown",
      "metadata": {
        "id": "view-in-github",
        "colab_type": "text"
      },
      "source": [
        "<a href=\"https://colab.research.google.com/github/BaekKyunShin/Kaggle-Competition-Including-Dacon/blob/master/Novel_Writer_Classification/LightGBM.ipynb\" target=\"_parent\"><img src=\"https://colab.research.google.com/assets/colab-badge.svg\" alt=\"Open In Colab\"/></a>"
      ]
    },
    {
      "cell_type": "markdown",
      "metadata": {
        "id": "P6zf4Ghac3sk"
      },
      "source": [
        "# LightGBM"
      ]
    },
    {
      "cell_type": "code",
      "metadata": {
        "id": "BnLczqFkjJFX",
        "outputId": "6523e4e8-898b-4f15-b18b-855f6c8dcfb6",
        "colab": {
          "base_uri": "https://localhost:8080/"
        }
      },
      "source": [
        "from google.colab import auth\n",
        "auth.authenticate_user()\n",
        "\n",
        "from google.colab import drive\n",
        "drive.mount('/content/gdrive', force_remount=True)"
      ],
      "execution_count": 19,
      "outputs": [
        {
          "output_type": "stream",
          "text": [
            "Mounted at /content/gdrive\n"
          ],
          "name": "stdout"
        }
      ]
    },
    {
      "cell_type": "code",
      "metadata": {
        "id": "sDbCKKSnjUwB"
      },
      "source": [
        "import pandas as pd\n",
        "import numpy as np\n",
        "\n",
        "# nltk\n",
        "import nltk\n",
        "from nltk.corpus import stopwords \n",
        "\n",
        "# 모델링\n",
        "import lightgbm as gbm\n",
        "from sklearn.feature_extraction.text import TfidfVectorizer,CountVectorizer\n",
        "from sklearn.preprocessing import LabelEncoder\n",
        "from sklearn.model_selection import KFold, StratifiedKFold\n",
        "from sklearn.metrics import log_loss\n",
        "\n",
        "# 기타\n",
        "import os\n",
        "import re\n",
        "import easydict\n",
        "import gc"
      ],
      "execution_count": 20,
      "outputs": []
    },
    {
      "cell_type": "code",
      "metadata": {
        "id": "UnlEuOSaP0_6"
      },
      "source": [
        "# 전역변수 설정\n",
        "args = easydict.EasyDict({ 'chdir': '/content/gdrive/My Drive/colab/Dacon_Novel_Writer_Classification/',\n",
        "                          'train_dir': 'open/train.csv', \n",
        "                          'test_dir': 'open/test_x.csv',\n",
        "                          'submission_dir': 'open/sample_submission.csv',\n",
        "                          'fianl_submission_dir': 'open/submission.csv',\n",
        "                          'max_len': 100,\n",
        "                          'epochs': 1,\n",
        "                          'learning_rate': 0.01,\n",
        "                          'wd': 1e-5,\n",
        "                          'batch_size': 64,\n",
        "                          'folds': KFold(n_splits=5, shuffle=True, random_state=1991)\n",
        "                          'train': True})"
      ],
      "execution_count": 21,
      "outputs": []
    },
    {
      "cell_type": "code",
      "metadata": {
        "id": "AfDTNW9sjjx8"
      },
      "source": [
        "# 경로 설정\n",
        "os.chdir(args.chdir)\n",
        "\n",
        "# 파일 불러오기\n",
        "train = pd.read_csv(args.train_dir, encoding='utf-8')\n",
        "test = pd.read_csv(args.test_dir, encoding='utf-8')\n",
        "sample_submission = pd.read_csv(args.submission_dir, encoding='utf-8')\n",
        "\n",
        "train.drop('index', axis=1, inplace=True)\n",
        "test.drop('index', axis=1, inplace=True)"
      ],
      "execution_count": 22,
      "outputs": []
    },
    {
      "cell_type": "code",
      "metadata": {
        "id": "7YhNjgM4jnfD",
        "outputId": "e068a4a7-2fd9-45fb-95e2-24fd6ed3630f",
        "colab": {
          "base_uri": "https://localhost:8080/",
          "height": 110
        }
      },
      "source": [
        "train.head(2)"
      ],
      "execution_count": 23,
      "outputs": [
        {
          "output_type": "execute_result",
          "data": {
            "text/html": [
              "<div>\n",
              "<style scoped>\n",
              "    .dataframe tbody tr th:only-of-type {\n",
              "        vertical-align: middle;\n",
              "    }\n",
              "\n",
              "    .dataframe tbody tr th {\n",
              "        vertical-align: top;\n",
              "    }\n",
              "\n",
              "    .dataframe thead th {\n",
              "        text-align: right;\n",
              "    }\n",
              "</style>\n",
              "<table border=\"1\" class=\"dataframe\">\n",
              "  <thead>\n",
              "    <tr style=\"text-align: right;\">\n",
              "      <th></th>\n",
              "      <th>text</th>\n",
              "      <th>author</th>\n",
              "    </tr>\n",
              "  </thead>\n",
              "  <tbody>\n",
              "    <tr>\n",
              "      <th>0</th>\n",
              "      <td>He was almost choking. There was so much, so m...</td>\n",
              "      <td>3</td>\n",
              "    </tr>\n",
              "    <tr>\n",
              "      <th>1</th>\n",
              "      <td>“Your sister asked for it, I suppose?”</td>\n",
              "      <td>2</td>\n",
              "    </tr>\n",
              "  </tbody>\n",
              "</table>\n",
              "</div>"
            ],
            "text/plain": [
              "                                                text  author\n",
              "0  He was almost choking. There was so much, so m...       3\n",
              "1             “Your sister asked for it, I suppose?”       2"
            ]
          },
          "metadata": {
            "tags": []
          },
          "execution_count": 23
        }
      ]
    },
    {
      "cell_type": "code",
      "metadata": {
        "id": "rrO2vDSkjotL",
        "outputId": "b49026ab-c617-439c-de74-f2c5ed1de1db",
        "colab": {
          "base_uri": "https://localhost:8080/",
          "height": 110
        }
      },
      "source": [
        "test.head(2)"
      ],
      "execution_count": 24,
      "outputs": [
        {
          "output_type": "execute_result",
          "data": {
            "text/html": [
              "<div>\n",
              "<style scoped>\n",
              "    .dataframe tbody tr th:only-of-type {\n",
              "        vertical-align: middle;\n",
              "    }\n",
              "\n",
              "    .dataframe tbody tr th {\n",
              "        vertical-align: top;\n",
              "    }\n",
              "\n",
              "    .dataframe thead th {\n",
              "        text-align: right;\n",
              "    }\n",
              "</style>\n",
              "<table border=\"1\" class=\"dataframe\">\n",
              "  <thead>\n",
              "    <tr style=\"text-align: right;\">\n",
              "      <th></th>\n",
              "      <th>text</th>\n",
              "    </tr>\n",
              "  </thead>\n",
              "  <tbody>\n",
              "    <tr>\n",
              "      <th>0</th>\n",
              "      <td>“Not at all. I think she is one of the most ch...</td>\n",
              "    </tr>\n",
              "    <tr>\n",
              "      <th>1</th>\n",
              "      <td>\"No,\" replied he, with sudden consciousness, \"...</td>\n",
              "    </tr>\n",
              "  </tbody>\n",
              "</table>\n",
              "</div>"
            ],
            "text/plain": [
              "                                                text\n",
              "0  “Not at all. I think she is one of the most ch...\n",
              "1  \"No,\" replied he, with sudden consciousness, \"..."
            ]
          },
          "metadata": {
            "tags": []
          },
          "execution_count": 24
        }
      ]
    },
    {
      "cell_type": "code",
      "metadata": {
        "id": "t0emzQSbjuHG",
        "outputId": "1f9b8b99-2736-4c4f-c722-63ed9e666332",
        "colab": {
          "base_uri": "https://localhost:8080/",
          "height": 110
        }
      },
      "source": [
        "sample_submission.head(2)"
      ],
      "execution_count": 25,
      "outputs": [
        {
          "output_type": "execute_result",
          "data": {
            "text/html": [
              "<div>\n",
              "<style scoped>\n",
              "    .dataframe tbody tr th:only-of-type {\n",
              "        vertical-align: middle;\n",
              "    }\n",
              "\n",
              "    .dataframe tbody tr th {\n",
              "        vertical-align: top;\n",
              "    }\n",
              "\n",
              "    .dataframe thead th {\n",
              "        text-align: right;\n",
              "    }\n",
              "</style>\n",
              "<table border=\"1\" class=\"dataframe\">\n",
              "  <thead>\n",
              "    <tr style=\"text-align: right;\">\n",
              "      <th></th>\n",
              "      <th>index</th>\n",
              "      <th>0</th>\n",
              "      <th>1</th>\n",
              "      <th>2</th>\n",
              "      <th>3</th>\n",
              "      <th>4</th>\n",
              "    </tr>\n",
              "  </thead>\n",
              "  <tbody>\n",
              "    <tr>\n",
              "      <th>0</th>\n",
              "      <td>0</td>\n",
              "      <td>0</td>\n",
              "      <td>0</td>\n",
              "      <td>0</td>\n",
              "      <td>0</td>\n",
              "      <td>0</td>\n",
              "    </tr>\n",
              "    <tr>\n",
              "      <th>1</th>\n",
              "      <td>1</td>\n",
              "      <td>0</td>\n",
              "      <td>0</td>\n",
              "      <td>0</td>\n",
              "      <td>0</td>\n",
              "      <td>0</td>\n",
              "    </tr>\n",
              "  </tbody>\n",
              "</table>\n",
              "</div>"
            ],
            "text/plain": [
              "   index  0  1  2  3  4\n",
              "0      0  0  0  0  0  0\n",
              "1      1  0  0  0  0  0"
            ]
          },
          "metadata": {
            "tags": []
          },
          "execution_count": 25
        }
      ]
    },
    {
      "cell_type": "markdown",
      "metadata": {
        "id": "zDnL4kdiIIQW"
      },
      "source": [
        "# Preprocessing"
      ]
    },
    {
      "cell_type": "code",
      "metadata": {
        "id": "t_ez2J3Cj2T1",
        "outputId": "41e70f12-b7da-4af4-bf53-52484e839bb6",
        "colab": {
          "base_uri": "https://localhost:8080/"
        }
      },
      "source": [
        "# 불용어\n",
        "basic_stopwords = { \"a\", \"about\", \"above\", \"after\", \"again\", \"against\", \"all\", \"am\", \"an\", \"and\", \"any\", \"are\", \"as\", \n",
        "             \"at\", \"be\", \"because\", \"been\", \"before\", \"being\", \"below\", \"between\", \"both\", \"but\", \"by\", \"could\", \n",
        "             \"did\", \"do\", \"does\", \"doing\", \"down\", \"during\", \"each\", \"few\", \"for\", \"from\", \"further\", \"had\", \"has\", \n",
        "             \"have\", \"having\", \"he\", \"he'd\", \"he'll\", \"he's\", \"her\", \"here\", \"here's\", \"hers\", \"herself\", \"him\", \"himself\", \n",
        "             \"his\", \"how\", \"how's\", \"i\", \"i'd\", \"i'll\", \"i'm\", \"i've\", \"if\", \"in\", \"into\", \"is\", \"it\", \"it's\", \"its\", \"itself\", \n",
        "             \"let's\", \"me\", \"more\", \"most\", \"my\", \"myself\", \"nor\", \"of\", \"on\", \"once\", \"only\", \"or\", \"other\", \"ought\", \"our\", \"ours\", \n",
        "             \"ourselves\", \"out\", \"over\", \"own\", \"same\", \"she\", \"she'd\", \"she'll\", \"she's\", \"should\", \"so\", \"some\", \"such\", \"than\", \"that\", \n",
        "             \"that's\", \"the\", \"their\", \"theirs\", \"them\", \"themselves\", \"then\", \"there\", \"there's\", \"these\", \"they\", \"they'd\", \"they'll\", \n",
        "             \"they're\", \"they've\", \"this\", \"those\", \"through\", \"to\", \"too\", \"under\", \"until\", \"up\", \"very\", \"was\", \"we\", \"we'd\", \"we'll\", \n",
        "             \"we're\", \"we've\", \"were\", \"what\", \"what's\", \"when\", \"when's\", \"where\", \"where's\", \"which\", \"while\", \"who\", \"who's\", \"whom\", \n",
        "             \"why\", \"why's\", \"with\", \"would\", \"you\", \"you'd\", \"you'll\", \"you're\", \"you've\", \"your\", \"yours\", \"yourself\", \"yourselves\" }\n",
        "\n",
        "nltk.download('stopwords')\n",
        "nltk_stopwords = set(stopwords.words('english'))\n",
        "\n",
        "final_stopwords = nltk_stopwords.union(basic_stopwords)"
      ],
      "execution_count": 26,
      "outputs": [
        {
          "output_type": "stream",
          "text": [
            "[nltk_data] Downloading package stopwords to /root/nltk_data...\n",
            "[nltk_data]   Package stopwords is already up-to-date!\n"
          ],
          "name": "stdout"
        }
      ]
    },
    {
      "cell_type": "code",
      "metadata": {
        "id": "iAhyS5GEj4Za"
      },
      "source": [
        "# 부호를 제거해주는 함수\n",
        "def alpha_num(text):\n",
        "    return re.sub(r'[^A-Za-z0-9 ]', '', text)\n",
        "\n",
        "# 불용어 제거해주는 함수\n",
        "def remove_stopwords(text: str):\n",
        "    final_text = []\n",
        "    for i in text.split():\n",
        "        if i.strip().lower() not in final_stopwords:\n",
        "            final_text.append(i.strip())\n",
        "    return \" \".join(final_text)\n",
        "    \n",
        "# 전처리 적용\n",
        "train['text']=train['text'].apply(alpha_num)\n",
        "test['text']=test['text'].apply(alpha_num)\n",
        "train['text'] = train['text'].str.lower()\n",
        "test['text'] = test['text'].str.lower()\n",
        "train['text'] = train['text'].apply(alpha_num).apply(remove_stopwords)\n",
        "test['text'] = test['text'].apply(alpha_num).apply(remove_stopwords)"
      ],
      "execution_count": 27,
      "outputs": []
    },
    {
      "cell_type": "markdown",
      "metadata": {
        "id": "_N4XeaPINYwx"
      },
      "source": [
        "# Vectorizing"
      ]
    },
    {
      "cell_type": "code",
      "metadata": {
        "id": "GIwoIqAWys8w",
        "outputId": "661e461c-73c3-4e06-9cf8-609a374d576c",
        "colab": {
          "base_uri": "https://localhost:8080/"
        }
      },
      "source": [
        "# Count Vectorizer\n",
        "count_vec=CountVectorizer(ngram_range=(1,2), min_df=5, binary=True, max_features=3000) \n",
        "train_cv=count_vec.fit_transform(train['text'])\n",
        "print(\"CountVectorized train dataset shape: \", train_cv.toarray().shape)\n",
        "\n",
        "# CSR 형식으로 변경\n",
        "X_cv = train_cv.tocsr().toarray()\n",
        "\n",
        "# Test Data에도 동일하게 적용\n",
        "test_cv = count_vec.transform(test['text'])\n",
        "test_cv = test_cv.tocsr().toarray()"
      ],
      "execution_count": 28,
      "outputs": [
        {
          "output_type": "stream",
          "text": [
            "CountVectorized train dataset shape:  (54879, 3000)\n"
          ],
          "name": "stdout"
        }
      ]
    },
    {
      "cell_type": "code",
      "metadata": {
        "id": "xYMYW4RaytLh",
        "outputId": "dfaa613e-fdf2-4f3c-d6ea-ba0a8ed1814e",
        "colab": {
          "base_uri": "https://localhost:8080/"
        }
      },
      "source": [
        "# TF-IDF Vectorizer\n",
        "tfidf_vec=TfidfVectorizer(ngram_range=(1,2), min_df=3, max_df=0.4, sublinear_tf=True, norm='l2', max_features=5500) \n",
        "train_tfidf=tfidf_vec.fit_transform(train['text'])\n",
        "print(\"TF-IDF Vectorized train dataset shape: \", train_tfidf.toarray().shape)\n",
        "\n",
        "# CSR 형식으로 변경\n",
        "X_tfidf = train_tfidf.tocsr().toarray()\n",
        "\n",
        "# Test Data에도 동일하게 적용\n",
        "test_tfidf = tfidf_vec.transform(test['text'])\n",
        "test_tfidf = test_tfidf.tocsr().toarray()"
      ],
      "execution_count": 29,
      "outputs": [
        {
          "output_type": "stream",
          "text": [
            "TF-IDF Vectorized train dataset shape:  (54879, 5500)\n"
          ],
          "name": "stdout"
        }
      ]
    },
    {
      "cell_type": "code",
      "metadata": {
        "id": "5RqVxiXJ4E_Q"
      },
      "source": [
        "y = train['author']\n",
        "dtest = test['text']"
      ],
      "execution_count": 30,
      "outputs": []
    },
    {
      "cell_type": "markdown",
      "metadata": {
        "id": "izGNLDWldlb4"
      },
      "source": [
        "# Modeling"
      ]
    },
    {
      "cell_type": "code",
      "metadata": {
        "id": "BfvmMaFV2hdm"
      },
      "source": [
        "Dparam = {'objective' : 'multiclass',\n",
        "          'boosting_type': 'gbdt',\n",
        "          'num_class': len(np.unique(y)),\n",
        "          'metric' : 'multi_logloss',\n",
        "          #'max_bin':350,\n",
        "          'max_depth':20,\n",
        "          'min_child_weight': 8,\n",
        "          'bagging_fraction':0.75,\n",
        "          'feature_fraction':0.75,\n",
        "          'lambda_l1':0.1,\n",
        "          'lambda_l2':0.1,\n",
        "          'num_leaves':31} "
      ],
      "execution_count": 31,
      "outputs": []
    },
    {
      "cell_type": "code",
      "metadata": {
        "id": "UVq6ydST2hIh",
        "outputId": "85c6c037-70c5-4acb-bf3a-0a305d170265",
        "colab": {
          "base_uri": "https://localhost:8080/"
        }
      },
      "source": [
        "print(\"Training Model\")\n",
        "\n",
        "FOLDS = args.folds.split(X_cv)\n",
        "oof_preds = np.zeros((train.shape[0], 5))\n",
        "preds = np.zeros((test.shape[0], 5))\n",
        "\n",
        "for n_fold, (trn_idx, val_idx) in enumerate(FOLDS):\n",
        "    dtrain = gbm.Dataset(X_cv[trn_idx], y[trn_idx])\n",
        "    dval = gbm.Dataset(X_cv[val_idx], y[val_idx])\n",
        "    m_gbm = gbm.train(params=Dparam, train_set=dtrain, num_boost_round=500, valid_sets=[dtrain, dval], valid_names=['train', 'valid'], early_stopping_rounds=50, verbose_eval=50)\n",
        "    oof_preds[val_idx] = m_gbm.predict(X_cv[val_idx])\n",
        "    preds += m_gbm.predict(test_cv) / folds.n_splits\n",
        "    print('Fold %2d log_loss : %.6f' % (n_fold + 1, log_loss(y.iloc[val_idx], oof_preds[val_idx])))\n",
        "    del dtrain, dval\n",
        "    gc.collect()\n",
        "    \n",
        "print('Full log_loss score %.6f' % log_loss(y, oof_preds))   \n"
      ],
      "execution_count": 32,
      "outputs": [
        {
          "output_type": "stream",
          "text": [
            "Training Model\n",
            "[50]\ttrain's multi_logloss: 1.08529\tvalid's multi_logloss: 1.10801\n",
            "[100]\ttrain's multi_logloss: 0.964401\tvalid's multi_logloss: 1.01106\n",
            "[150]\ttrain's multi_logloss: 0.895627\tvalid's multi_logloss: 0.959538\n",
            "[200]\ttrain's multi_logloss: 0.847641\tvalid's multi_logloss: 0.926687\n",
            "[250]\ttrain's multi_logloss: 0.810251\tvalid's multi_logloss: 0.903244\n",
            "[300]\ttrain's multi_logloss: 0.780516\tvalid's multi_logloss: 0.886156\n",
            "[350]\ttrain's multi_logloss: 0.755455\tvalid's multi_logloss: 0.872705\n",
            "[400]\ttrain's multi_logloss: 0.734003\tvalid's multi_logloss: 0.861897\n",
            "[450]\ttrain's multi_logloss: 0.7152\tvalid's multi_logloss: 0.853349\n",
            "[500]\ttrain's multi_logloss: 0.698816\tvalid's multi_logloss: 0.846342\n",
            "Fold  1 log_loss : 0.846342\n",
            "[50]\ttrain's multi_logloss: 1.08003\tvalid's multi_logloss: 1.12726\n",
            "[100]\ttrain's multi_logloss: 0.958278\tvalid's multi_logloss: 1.03483\n",
            "[150]\ttrain's multi_logloss: 0.889107\tvalid's multi_logloss: 0.985649\n",
            "[200]\ttrain's multi_logloss: 0.840695\tvalid's multi_logloss: 0.953136\n",
            "[250]\ttrain's multi_logloss: 0.803812\tvalid's multi_logloss: 0.9304\n",
            "[300]\ttrain's multi_logloss: 0.773727\tvalid's multi_logloss: 0.91317\n",
            "[350]\ttrain's multi_logloss: 0.748776\tvalid's multi_logloss: 0.900677\n",
            "[400]\ttrain's multi_logloss: 0.727289\tvalid's multi_logloss: 0.890568\n",
            "[450]\ttrain's multi_logloss: 0.709006\tvalid's multi_logloss: 0.882565\n",
            "[500]\ttrain's multi_logloss: 0.69271\tvalid's multi_logloss: 0.876603\n",
            "Fold  2 log_loss : 0.876603\n",
            "[50]\ttrain's multi_logloss: 1.08129\tvalid's multi_logloss: 1.1227\n",
            "[100]\ttrain's multi_logloss: 0.960347\tvalid's multi_logloss: 1.02577\n",
            "[150]\ttrain's multi_logloss: 0.890756\tvalid's multi_logloss: 0.975905\n",
            "[200]\ttrain's multi_logloss: 0.841856\tvalid's multi_logloss: 0.943817\n",
            "[250]\ttrain's multi_logloss: 0.804508\tvalid's multi_logloss: 0.92078\n",
            "[300]\ttrain's multi_logloss: 0.774479\tvalid's multi_logloss: 0.9045\n",
            "[350]\ttrain's multi_logloss: 0.749297\tvalid's multi_logloss: 0.891881\n",
            "[400]\ttrain's multi_logloss: 0.727804\tvalid's multi_logloss: 0.881617\n",
            "[450]\ttrain's multi_logloss: 0.708937\tvalid's multi_logloss: 0.873537\n",
            "[500]\ttrain's multi_logloss: 0.69248\tvalid's multi_logloss: 0.867238\n",
            "Fold  3 log_loss : 0.867238\n",
            "[50]\ttrain's multi_logloss: 1.081\tvalid's multi_logloss: 1.12646\n",
            "[100]\ttrain's multi_logloss: 0.960166\tvalid's multi_logloss: 1.02827\n",
            "[150]\ttrain's multi_logloss: 0.890856\tvalid's multi_logloss: 0.976974\n",
            "[200]\ttrain's multi_logloss: 0.843127\tvalid's multi_logloss: 0.943694\n",
            "[250]\ttrain's multi_logloss: 0.806136\tvalid's multi_logloss: 0.920227\n",
            "[300]\ttrain's multi_logloss: 0.775983\tvalid's multi_logloss: 0.902598\n",
            "[350]\ttrain's multi_logloss: 0.751215\tvalid's multi_logloss: 0.888414\n",
            "[400]\ttrain's multi_logloss: 0.729952\tvalid's multi_logloss: 0.877816\n",
            "[450]\ttrain's multi_logloss: 0.711566\tvalid's multi_logloss: 0.869974\n",
            "[500]\ttrain's multi_logloss: 0.69555\tvalid's multi_logloss: 0.863373\n",
            "Fold  4 log_loss : 0.863373\n",
            "[50]\ttrain's multi_logloss: 1.08591\tvalid's multi_logloss: 1.10462\n",
            "[100]\ttrain's multi_logloss: 0.964663\tvalid's multi_logloss: 1.00859\n",
            "[150]\ttrain's multi_logloss: 0.894428\tvalid's multi_logloss: 0.959378\n",
            "[200]\ttrain's multi_logloss: 0.846155\tvalid's multi_logloss: 0.927702\n",
            "[250]\ttrain's multi_logloss: 0.808767\tvalid's multi_logloss: 0.905333\n",
            "[300]\ttrain's multi_logloss: 0.778378\tvalid's multi_logloss: 0.889395\n",
            "[350]\ttrain's multi_logloss: 0.752875\tvalid's multi_logloss: 0.877028\n",
            "[400]\ttrain's multi_logloss: 0.731015\tvalid's multi_logloss: 0.866955\n",
            "[450]\ttrain's multi_logloss: 0.712337\tvalid's multi_logloss: 0.859239\n",
            "[500]\ttrain's multi_logloss: 0.695831\tvalid's multi_logloss: 0.853105\n",
            "Fold  5 log_loss : 0.853105\n",
            "Full log_loss score 0.861332\n"
          ],
          "name": "stdout"
        }
      ]
    },
    {
      "cell_type": "markdown",
      "metadata": {
        "id": "l9nO-tTZdnne"
      },
      "source": [
        "# Submission"
      ]
    },
    {
      "cell_type": "code",
      "metadata": {
        "id": "dx_1UOEZbFZB",
        "outputId": "bb367d28-6331-49ce-8704-35bfd7e8cc84",
        "colab": {
          "base_uri": "https://localhost:8080/",
          "height": 415
        }
      },
      "source": [
        "sample_submission[['0','1','2','3','4']] = preds\n",
        "sample_submission"
      ],
      "execution_count": 33,
      "outputs": [
        {
          "output_type": "execute_result",
          "data": {
            "text/html": [
              "<div>\n",
              "<style scoped>\n",
              "    .dataframe tbody tr th:only-of-type {\n",
              "        vertical-align: middle;\n",
              "    }\n",
              "\n",
              "    .dataframe tbody tr th {\n",
              "        vertical-align: top;\n",
              "    }\n",
              "\n",
              "    .dataframe thead th {\n",
              "        text-align: right;\n",
              "    }\n",
              "</style>\n",
              "<table border=\"1\" class=\"dataframe\">\n",
              "  <thead>\n",
              "    <tr style=\"text-align: right;\">\n",
              "      <th></th>\n",
              "      <th>index</th>\n",
              "      <th>0</th>\n",
              "      <th>1</th>\n",
              "      <th>2</th>\n",
              "      <th>3</th>\n",
              "      <th>4</th>\n",
              "    </tr>\n",
              "  </thead>\n",
              "  <tbody>\n",
              "    <tr>\n",
              "      <th>0</th>\n",
              "      <td>0</td>\n",
              "      <td>0.038539</td>\n",
              "      <td>0.884476</td>\n",
              "      <td>0.038047</td>\n",
              "      <td>0.032532</td>\n",
              "      <td>0.006406</td>\n",
              "    </tr>\n",
              "    <tr>\n",
              "      <th>1</th>\n",
              "      <td>1</td>\n",
              "      <td>0.198288</td>\n",
              "      <td>0.237068</td>\n",
              "      <td>0.032878</td>\n",
              "      <td>0.075781</td>\n",
              "      <td>0.455985</td>\n",
              "    </tr>\n",
              "    <tr>\n",
              "      <th>2</th>\n",
              "      <td>2</td>\n",
              "      <td>0.856151</td>\n",
              "      <td>0.028874</td>\n",
              "      <td>0.019032</td>\n",
              "      <td>0.006149</td>\n",
              "      <td>0.089794</td>\n",
              "    </tr>\n",
              "    <tr>\n",
              "      <th>3</th>\n",
              "      <td>3</td>\n",
              "      <td>0.049358</td>\n",
              "      <td>0.000762</td>\n",
              "      <td>0.724488</td>\n",
              "      <td>0.001588</td>\n",
              "      <td>0.223805</td>\n",
              "    </tr>\n",
              "    <tr>\n",
              "      <th>4</th>\n",
              "      <td>4</td>\n",
              "      <td>0.257951</td>\n",
              "      <td>0.186101</td>\n",
              "      <td>0.051453</td>\n",
              "      <td>0.188975</td>\n",
              "      <td>0.315519</td>\n",
              "    </tr>\n",
              "    <tr>\n",
              "      <th>...</th>\n",
              "      <td>...</td>\n",
              "      <td>...</td>\n",
              "      <td>...</td>\n",
              "      <td>...</td>\n",
              "      <td>...</td>\n",
              "      <td>...</td>\n",
              "    </tr>\n",
              "    <tr>\n",
              "      <th>19612</th>\n",
              "      <td>19612</td>\n",
              "      <td>0.003735</td>\n",
              "      <td>0.995309</td>\n",
              "      <td>0.000091</td>\n",
              "      <td>0.000670</td>\n",
              "      <td>0.000195</td>\n",
              "    </tr>\n",
              "    <tr>\n",
              "      <th>19613</th>\n",
              "      <td>19613</td>\n",
              "      <td>0.505713</td>\n",
              "      <td>0.003807</td>\n",
              "      <td>0.008349</td>\n",
              "      <td>0.002868</td>\n",
              "      <td>0.479263</td>\n",
              "    </tr>\n",
              "    <tr>\n",
              "      <th>19614</th>\n",
              "      <td>19614</td>\n",
              "      <td>0.025916</td>\n",
              "      <td>0.968958</td>\n",
              "      <td>0.000621</td>\n",
              "      <td>0.003894</td>\n",
              "      <td>0.000611</td>\n",
              "    </tr>\n",
              "    <tr>\n",
              "      <th>19615</th>\n",
              "      <td>19615</td>\n",
              "      <td>0.034191</td>\n",
              "      <td>0.874834</td>\n",
              "      <td>0.053031</td>\n",
              "      <td>0.030922</td>\n",
              "      <td>0.007023</td>\n",
              "    </tr>\n",
              "    <tr>\n",
              "      <th>19616</th>\n",
              "      <td>19616</td>\n",
              "      <td>0.279209</td>\n",
              "      <td>0.072323</td>\n",
              "      <td>0.422449</td>\n",
              "      <td>0.117492</td>\n",
              "      <td>0.108527</td>\n",
              "    </tr>\n",
              "  </tbody>\n",
              "</table>\n",
              "<p>19617 rows × 6 columns</p>\n",
              "</div>"
            ],
            "text/plain": [
              "       index         0         1         2         3         4\n",
              "0          0  0.038539  0.884476  0.038047  0.032532  0.006406\n",
              "1          1  0.198288  0.237068  0.032878  0.075781  0.455985\n",
              "2          2  0.856151  0.028874  0.019032  0.006149  0.089794\n",
              "3          3  0.049358  0.000762  0.724488  0.001588  0.223805\n",
              "4          4  0.257951  0.186101  0.051453  0.188975  0.315519\n",
              "...      ...       ...       ...       ...       ...       ...\n",
              "19612  19612  0.003735  0.995309  0.000091  0.000670  0.000195\n",
              "19613  19613  0.505713  0.003807  0.008349  0.002868  0.479263\n",
              "19614  19614  0.025916  0.968958  0.000621  0.003894  0.000611\n",
              "19615  19615  0.034191  0.874834  0.053031  0.030922  0.007023\n",
              "19616  19616  0.279209  0.072323  0.422449  0.117492  0.108527\n",
              "\n",
              "[19617 rows x 6 columns]"
            ]
          },
          "metadata": {
            "tags": []
          },
          "execution_count": 33
        }
      ]
    },
    {
      "cell_type": "code",
      "metadata": {
        "id": "o8f25VHJytat"
      },
      "source": [
        "sample_submission.to_csv(args.fianl_submission_dir, index=False, encoding = 'utf-8')"
      ],
      "execution_count": 34,
      "outputs": []
    }
  ]
}