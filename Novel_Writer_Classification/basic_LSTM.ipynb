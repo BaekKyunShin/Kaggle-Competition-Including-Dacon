{
<<<<<<< HEAD
 "cells": [
  {
   "cell_type": "code",
   "execution_count": 1,
   "metadata": {
    "id": "8bs5PrgibQqv"
   },
   "outputs": [
    {
     "name": "stderr",
     "output_type": "stream",
     "text": [
      "Using TensorFlow backend.\n"
     ]
    }
   ],
   "source": [
    "import numpy as np \n",
    "import pandas as pd\n",
    "import matplotlib.pyplot as plt\n",
    "import seaborn as sns\n",
    "import tensorflow as tf\n",
    "from keras.preprocessing.text import Tokenizer\n",
    "from keras.preprocessing.sequence import pad_sequences\n",
    "from keras.models import Sequential\n",
    "from keras.layers import Dense, Embedding, LSTM, SpatialDropout1D, GlobalAveragePooling1D\n",
    "from sklearn.model_selection import train_test_split\n",
    "from keras.utils.np_utils import to_categorical\n",
    "from keras.callbacks import EarlyStopping\n",
    "from keras.layers import Dropout\n",
    "import re\n",
    "import nltk\n",
    "from nltk.corpus import stopwords\n",
    "from nltk import word_tokenize\n",
    "import os\n",
    "import easydict"
   ]
  },
  {
   "cell_type": "code",
   "execution_count": 2,
   "metadata": {
    "id": "LH8FDMMIRfan"
   },
   "outputs": [
    {
     "name": "stdout",
     "output_type": "stream",
     "text": [
      "\n",
      "2.0.0\n"
     ]
    }
   ],
   "source": [
    "device = tf.test.gpu_device_name()\n",
    "print(device)\n",
    "print(tf.__version__)"
   ]
  },
  {
   "cell_type": "code",
   "execution_count": 3,
   "metadata": {
    "id": "2E3P6KWQbV1g"
   },
   "outputs": [],
   "source": [
    "# 파일 불러오기\n",
    "train = pd.read_csv('open/train.csv', encoding='utf-8')\n",
    "test = pd.read_csv('open/test_x.csv', encoding='utf-8')\n",
    "sample_submission = pd.read_csv('open/sample_submission.csv', encoding='utf-8')"
   ]
  },
  {
   "cell_type": "code",
   "execution_count": 4,
   "metadata": {
    "id": "Z-Y3FBklbVvQ"
   },
   "outputs": [
    {
     "data": {
      "text/html": [
       "<div>\n",
       "<style scoped>\n",
       "    .dataframe tbody tr th:only-of-type {\n",
       "        vertical-align: middle;\n",
       "    }\n",
       "\n",
       "    .dataframe tbody tr th {\n",
       "        vertical-align: top;\n",
       "    }\n",
       "\n",
       "    .dataframe thead th {\n",
       "        text-align: right;\n",
       "    }\n",
       "</style>\n",
       "<table border=\"1\" class=\"dataframe\">\n",
       "  <thead>\n",
       "    <tr style=\"text-align: right;\">\n",
       "      <th></th>\n",
       "      <th>text</th>\n",
       "      <th>author</th>\n",
       "    </tr>\n",
       "  </thead>\n",
       "  <tbody>\n",
       "    <tr>\n",
       "      <th>0</th>\n",
       "      <td>He was almost choking. There was so much, so m...</td>\n",
       "      <td>3</td>\n",
       "    </tr>\n",
       "    <tr>\n",
       "      <th>1</th>\n",
       "      <td>“Your sister asked for it, I suppose?”</td>\n",
       "      <td>2</td>\n",
       "    </tr>\n",
       "  </tbody>\n",
       "</table>\n",
       "</div>"
      ],
      "text/plain": [
       "                                                text  author\n",
       "0  He was almost choking. There was so much, so m...       3\n",
       "1             “Your sister asked for it, I suppose?”       2"
      ]
     },
     "execution_count": 4,
     "metadata": {},
     "output_type": "execute_result"
    }
   ],
   "source": [
    "train.drop('index', axis=1, inplace=True)\n",
    "train.head(2)"
   ]
  },
  {
   "cell_type": "code",
   "execution_count": 5,
   "metadata": {
    "id": "JrBuSlU6bVW-"
   },
   "outputs": [
    {
     "data": {
      "text/html": [
       "<div>\n",
       "<style scoped>\n",
       "    .dataframe tbody tr th:only-of-type {\n",
       "        vertical-align: middle;\n",
       "    }\n",
       "\n",
       "    .dataframe tbody tr th {\n",
       "        vertical-align: top;\n",
       "    }\n",
       "\n",
       "    .dataframe thead th {\n",
       "        text-align: right;\n",
       "    }\n",
       "</style>\n",
       "<table border=\"1\" class=\"dataframe\">\n",
       "  <thead>\n",
       "    <tr style=\"text-align: right;\">\n",
       "      <th></th>\n",
       "      <th>text</th>\n",
       "    </tr>\n",
       "  </thead>\n",
       "  <tbody>\n",
       "    <tr>\n",
       "      <th>0</th>\n",
       "      <td>“Not at all. I think she is one of the most ch...</td>\n",
       "    </tr>\n",
       "    <tr>\n",
       "      <th>1</th>\n",
       "      <td>\"No,\" replied he, with sudden consciousness, \"...</td>\n",
       "    </tr>\n",
       "  </tbody>\n",
       "</table>\n",
       "</div>"
      ],
      "text/plain": [
       "                                                text\n",
       "0  “Not at all. I think she is one of the most ch...\n",
       "1  \"No,\" replied he, with sudden consciousness, \"..."
      ]
     },
     "execution_count": 5,
     "metadata": {},
     "output_type": "execute_result"
    }
   ],
   "source": [
    "test.drop('index', axis=1, inplace=True)\n",
    "test.head(2)"
   ]
  },
  {
   "cell_type": "code",
   "execution_count": 6,
   "metadata": {
    "id": "PzmwLGS6bVUc"
   },
   "outputs": [
    {
     "data": {
      "text/html": [
       "<div>\n",
       "<style scoped>\n",
       "    .dataframe tbody tr th:only-of-type {\n",
       "        vertical-align: middle;\n",
       "    }\n",
       "\n",
       "    .dataframe tbody tr th {\n",
       "        vertical-align: top;\n",
       "    }\n",
       "\n",
       "    .dataframe thead th {\n",
       "        text-align: right;\n",
       "    }\n",
       "</style>\n",
       "<table border=\"1\" class=\"dataframe\">\n",
       "  <thead>\n",
       "    <tr style=\"text-align: right;\">\n",
       "      <th></th>\n",
       "      <th>index</th>\n",
       "      <th>0</th>\n",
       "      <th>1</th>\n",
       "      <th>2</th>\n",
       "      <th>3</th>\n",
       "      <th>4</th>\n",
       "    </tr>\n",
       "  </thead>\n",
       "  <tbody>\n",
       "    <tr>\n",
       "      <th>0</th>\n",
       "      <td>0</td>\n",
       "      <td>0</td>\n",
       "      <td>0</td>\n",
       "      <td>0</td>\n",
       "      <td>0</td>\n",
       "      <td>0</td>\n",
       "    </tr>\n",
       "    <tr>\n",
       "      <th>1</th>\n",
       "      <td>1</td>\n",
       "      <td>0</td>\n",
       "      <td>0</td>\n",
       "      <td>0</td>\n",
       "      <td>0</td>\n",
       "      <td>0</td>\n",
       "    </tr>\n",
       "  </tbody>\n",
       "</table>\n",
       "</div>"
      ],
      "text/plain": [
       "   index  0  1  2  3  4\n",
       "0      0  0  0  0  0  0\n",
       "1      1  0  0  0  0  0"
      ]
     },
     "execution_count": 6,
     "metadata": {},
     "output_type": "execute_result"
    }
   ],
   "source": [
    "sample_submission.head(2)"
   ]
  },
  {
   "cell_type": "markdown",
   "metadata": {
    "id": "MLm37CheeO_e"
   },
   "source": [
    "# 전처리"
   ]
  },
  {
   "cell_type": "code",
   "execution_count": 7,
   "metadata": {
    "id": "WYbTUx7ldpIP"
   },
   "outputs": [
    {
     "name": "stderr",
     "output_type": "stream",
     "text": [
      "[nltk_data] Downloading package stopwords to\n",
      "[nltk_data]     C:\\Users\\weroo/nltk_data...\n",
      "[nltk_data]   Package stopwords is already up-to-date!\n"
     ]
    }
   ],
   "source": [
    "# 불용어\n",
    "basic_stopwords = { \"a\", \"about\", \"above\", \"after\", \"again\", \"against\", \"all\", \"am\", \"an\", \"and\", \"any\", \"are\", \"as\", \n",
    "             \"at\", \"be\", \"because\", \"been\", \"before\", \"being\", \"below\", \"between\", \"both\", \"but\", \"by\", \"could\", \n",
    "             \"did\", \"do\", \"does\", \"doing\", \"down\", \"during\", \"each\", \"few\", \"for\", \"from\", \"further\", \"had\", \"has\", \n",
    "             \"have\", \"having\", \"he\", \"he'd\", \"he'll\", \"he's\", \"her\", \"here\", \"here's\", \"hers\", \"herself\", \"him\", \"himself\", \n",
    "             \"his\", \"how\", \"how's\", \"i\", \"i'd\", \"i'll\", \"i'm\", \"i've\", \"if\", \"in\", \"into\", \"is\", \"it\", \"it's\", \"its\", \"itself\", \n",
    "             \"let's\", \"me\", \"more\", \"most\", \"my\", \"myself\", \"nor\", \"of\", \"on\", \"once\", \"only\", \"or\", \"other\", \"ought\", \"our\", \"ours\", \n",
    "             \"ourselves\", \"out\", \"over\", \"own\", \"same\", \"she\", \"she'd\", \"she'll\", \"she's\", \"should\", \"so\", \"some\", \"such\", \"than\", \"that\", \n",
    "             \"that's\", \"the\", \"their\", \"theirs\", \"them\", \"themselves\", \"then\", \"there\", \"there's\", \"these\", \"they\", \"they'd\", \"they'll\", \n",
    "             \"they're\", \"they've\", \"this\", \"those\", \"through\", \"to\", \"too\", \"under\", \"until\", \"up\", \"very\", \"was\", \"we\", \"we'd\", \"we'll\", \n",
    "             \"we're\", \"we've\", \"were\", \"what\", \"what's\", \"when\", \"when's\", \"where\", \"where's\", \"which\", \"while\", \"who\", \"who's\", \"whom\", \n",
    "             \"why\", \"why's\", \"with\", \"would\", \"you\", \"you'd\", \"you'll\", \"you're\", \"you've\", \"your\", \"yours\", \"yourself\", \"yourselves\" }\n",
    "\n",
    "nltk.download('stopwords')\n",
    "nltk_stopwords = set(stopwords.words('english'))\n",
    "\n",
    "final_stopwords = nltk_stopwords.union(basic_stopwords)"
   ]
  },
  {
   "cell_type": "code",
   "execution_count": 8,
   "metadata": {
    "id": "uR9Y1SX2bayy"
   },
   "outputs": [],
   "source": [
    "# 부호를 제거해주는 함수\n",
    "def alpha_num(text):\n",
    "    return re.sub(r'[^A-Za-z0-9 ]', '', text)\n",
    "\n",
    "# 불용어 제거해주는 함수\n",
    "def remove_stopwords(text: str):\n",
    "    final_text = []\n",
    "    for i in text.split():\n",
    "        if i.strip().lower() not in final_stopwords:\n",
    "            final_text.append(i.strip())\n",
    "    return \" \".join(final_text)\n",
    "    \n",
    "# 전처리 적용\n",
    "train['text']=train['text'].apply(alpha_num)\n",
    "test['text']=test['text'].apply(alpha_num)\n",
    "train['text'] = train['text'].str.lower()\n",
    "test['text'] = test['text'].str.lower()\n",
    "train['text'] = train['text'].apply(alpha_num).apply(remove_stopwords)\n",
    "test['text'] = test['text'].apply(alpha_num).apply(remove_stopwords)"
   ]
  },
  {
   "cell_type": "code",
   "execution_count": 9,
   "metadata": {
    "id": "SkZqzH5Yff1Q"
   },
   "outputs": [],
   "source": [
    "# train test 분리\n",
    "# X_train = np.array([x for x in train['text']])\n",
    "# X_test = np.array([x for x in test['text']])\n",
    "# y_train = np.array([x for x in train['author']])\n",
    "\n",
    "X_train = train['text'].values\n",
    "X_test = test['text'].values\n",
    "y_train = train['author'].values"
   ]
  },
  {
   "cell_type": "code",
   "execution_count": 10,
   "metadata": {
    "id": "fm8-p4Crf5Cm"
   },
   "outputs": [
    {
     "data": {
      "text/plain": [
       "array(['almost choking much much wanted say strange exclamations came lips pole gazed fixedly bundle notes hand looked odin evident perplexity',\n",
       "       'sister asked suppose',\n",
       "       'engaged one day walked perusing janes last letter dwelling passages proved jane written spirits instead surprised mr odin saw looking odin meeting putting away letter immediately forcing smile said',\n",
       "       ..., 'sincere wellwisher friend sister lucy odin',\n",
       "       'wanted lend money', 'certainly occurred said yes like'],\n",
       "      dtype=object)"
      ]
     },
     "execution_count": 10,
     "metadata": {},
     "output_type": "execute_result"
    }
   ],
   "source": [
    "X_train"
   ]
  },
  {
   "cell_type": "code",
   "execution_count": 11,
   "metadata": {
    "id": "3ZIjMq-Vhk77"
   },
   "outputs": [
    {
     "data": {
      "text/plain": [
       "54879"
      ]
     },
     "execution_count": 11,
     "metadata": {},
     "output_type": "execute_result"
    }
   ],
   "source": [
    "len(X_train)"
   ]
  },
  {
   "cell_type": "markdown",
   "metadata": {
    "id": "yZa_ZTOYeQec"
   },
   "source": [
    "# 토크나이징"
   ]
  },
  {
   "cell_type": "code",
   "execution_count": 12,
   "metadata": {
    "id": "KeZBCNHsba4-"
   },
   "outputs": [
    {
     "name": "stdout",
     "output_type": "stream",
     "text": [
      "Found 47118 unique tokens.\n"
     ]
    }
   ],
   "source": [
    "tokenizer = Tokenizer(num_words=30000, filters='!\"#$%&()*+,-./:;<=>?@[\\]^_`{|}~', lower=True, oov_token=\"<OOV>\")\n",
    "tokenizer.fit_on_texts(X_train)\n",
    "word_index = tokenizer.word_index\n",
    "print('Found %s unique tokens.' % len(word_index))"
   ]
  },
  {
   "cell_type": "code",
   "execution_count": 13,
   "metadata": {
    "id": "ipmUQeOpba19"
   },
   "outputs": [
    {
     "name": "stdout",
     "output_type": "stream",
     "text": [
      "[[135, 7244, 17, 17, 310, 18, 223, 3058, 32, 446, 2725, 1195, 5011, 1694, 1200, 41, 53, 2, 1207, 2818], [211, 54, 215], [675, 4, 55, 244, 13184, 4732, 34, 188, 4528, 4733, 1225, 479, 618, 493, 692, 495, 5, 2, 73, 101, 2, 664, 855, 46, 188, 418, 5310, 283, 3], [245, 5012, 867, 1230, 39, 8427, 823, 1497, 115, 248, 20, 1140, 610, 5311, 496, 2, 61, 1728, 129, 393, 2158, 1782, 2115, 1619, 610, 100, 3746, 6404, 1894, 131, 1783], [1374, 340, 2, 1548, 100, 27, 482, 1471, 968, 205, 2031, 98, 6651, 4000, 884, 16684, 6964, 9539, 77, 194], [9, 3410, 3, 3167, 1231, 20, 710], [655, 425, 1549, 388, 238, 258, 6405, 303, 70, 10], [1089, 595, 7, 25535, 3, 11, 937, 7, 6142, 68, 3344, 1761, 7, 12, 35, 651, 25536, 996, 696, 6, 1498, 297, 5149, 11983, 6965, 55, 737, 3002, 28, 80, 968, 16685, 31, 332, 25537, 5907, 1679], [34, 1968, 87, 3], [15, 170, 23, 849, 24, 1030, 5312, 268, 1916, 156, 79, 2013, 79, 2772, 79, 19831, 1333]]\n",
      "['almost choking much much wanted say strange exclamations came lips pole gazed fixedly bundle notes hand looked odin evident perplexity'\n",
      " 'sister asked suppose'\n",
      " 'engaged one day walked perusing janes last letter dwelling passages proved jane written spirits instead surprised mr odin saw looking odin meeting putting away letter immediately forcing smile said'\n",
      " 'captain porch keeping carefully way treacherous shot intended turned spoke us doctors watch lookout dr odin take north side please jim east gray west watch hands load muskets lively men careful'\n",
      " 'mercy gentlemen odin flung hands dont write anyway shame ive torn heart asunder seize opportunity fingering wounds halves oh god'\n",
      " 'well fought said sooth charge us twice'\n",
      " 'pay impossible considering character talk fellow plague mine another time'\n",
      " 'proper figure man atarms said little knight man chicken yet warrant stronger man see great stone coping hath fodin upon bridge four lazy varlets strove day carry hence two put shame budging though fear overtask grievous weight'\n",
      " 'last sunday night said'\n",
      " 'must ask cried hell may noble flames known score years always hated always admired always slavishly feared']\n"
     ]
    }
   ],
   "source": [
    "X_token = tokenizer.texts_to_sequences(X_train)\n",
    "print(X_token[:10])\n",
    "print(X_train[:10])"
   ]
  },
  {
   "cell_type": "code",
   "execution_count": 14,
   "metadata": {
    "id": "Pr2xHcecbavk"
   },
   "outputs": [
    {
     "data": {
      "text/plain": [
       "(54879, 500)"
      ]
     },
     "execution_count": 14,
     "metadata": {},
     "output_type": "execute_result"
    }
   ],
   "source": [
    "X_token = pad_sequences(X_token, maxlen=500, padding='post', truncating='post')\n",
    "X_token.shape"
   ]
  },
  {
   "cell_type": "code",
   "execution_count": 15,
   "metadata": {
    "id": "9bZ66A1sbVO5"
   },
   "outputs": [
    {
     "data": {
      "text/plain": [
       "(19617, 500)"
      ]
     },
     "execution_count": 15,
     "metadata": {},
     "output_type": "execute_result"
    }
   ],
   "source": [
    "X_token_test = tokenizer.texts_to_sequences(X_test)\n",
    "X_token_test = pad_sequences(X_token_test, maxlen=500, padding='post', truncating='post')\n",
    "X_token_test.shape"
   ]
  },
  {
   "cell_type": "code",
   "execution_count": 16,
   "metadata": {
    "id": "kBDctcWybQiA"
   },
   "outputs": [
    {
     "data": {
      "text/plain": [
       "array([[0, 0, 0, 1, 0],\n",
       "       [0, 0, 1, 0, 0],\n",
       "       [0, 1, 0, 0, 0],\n",
       "       ...,\n",
       "       [0, 1, 0, 0, 0],\n",
       "       [0, 0, 0, 1, 0],\n",
       "       [1, 0, 0, 0, 0]], dtype=uint8)"
      ]
     },
     "execution_count": 16,
     "metadata": {},
     "output_type": "execute_result"
    }
   ],
   "source": [
    "y_train = pd.get_dummies(y_train).values\n",
    "y_train"
   ]
  },
  {
   "cell_type": "code",
   "execution_count": 17,
   "metadata": {
    "id": "fAb0iBUmmp4F",
    "scrolled": true
   },
   "outputs": [
    {
     "name": "stdout",
     "output_type": "stream",
     "text": [
      "(49391, 500) (49391, 5)\n",
      "(5488, 500) (5488, 5)\n"
     ]
    }
   ],
   "source": [
    "X_train, X_test, Y_train, Y_test = train_test_split(X_token, y_train, test_size=0.1, random_state=42)\n",
    "print(X_train.shape, Y_train.shape)\n",
    "print(X_test.shape, Y_test.shape)"
   ]
  },
  {
   "cell_type": "code",
   "execution_count": 18,
   "metadata": {
    "id": "5EK3b0f8nTWs"
   },
   "outputs": [
    {
     "name": "stdout",
     "output_type": "stream",
     "text": [
      "Model: \"sequential_1\"\n",
      "_________________________________________________________________\n",
      "Layer (type)                 Output Shape              Param #   \n",
      "=================================================================\n",
      "embedding_1 (Embedding)      (None, 500, 20)           600000    \n",
      "_________________________________________________________________\n",
      "spatial_dropout1d_1 (Spatial (None, 500, 20)           0         \n",
      "_________________________________________________________________\n",
      "lstm_1 (LSTM)                (None, 20)                3280      \n",
      "_________________________________________________________________\n",
      "dense_1 (Dense)              (None, 16)                336       \n",
      "_________________________________________________________________\n",
      "dense_2 (Dense)              (None, 5)                 85        \n",
      "=================================================================\n",
      "Total params: 603,701\n",
      "Trainable params: 603,701\n",
      "Non-trainable params: 0\n",
      "_________________________________________________________________\n",
      "None\n"
     ]
    }
   ],
   "source": [
    "model=Sequential()\n",
    "model.add(Embedding(30000, 20, input_length=500))\n",
    "# model.add(GlobalAveragePooling1D())\n",
    "model.add(SpatialDropout1D(0.1))\n",
    "model.add(LSTM(20, dropout=0.2, recurrent_dropout=0.2))\n",
    "model.add(Dense(16, activation='relu'))\n",
    "model.add(Dense(5, activation='softmax'))\n",
    "model.compile(loss='categorical_crossentropy', optimizer='adam', metrics=['accuracy'])\n",
    "print(model.summary())"
   ]
  },
  {
   "cell_type": "code",
   "execution_count": null,
   "metadata": {
    "id": "nsakBgFLnTd-"
   },
   "outputs": [
    {
     "name": "stderr",
     "output_type": "stream",
     "text": [
      "C:\\Users\\weroo\\Anaconda\\Anaconda3\\lib\\site-packages\\tensorflow_core\\python\\framework\\indexed_slices.py:424: UserWarning: Converting sparse IndexedSlices to a dense Tensor of unknown shape. This may consume a large amount of memory.\n",
      "  \"Converting sparse IndexedSlices to a dense Tensor of unknown shape. \"\n"
     ]
    },
    {
     "name": "stdout",
     "output_type": "stream",
     "text": [
      "Train on 44451 samples, validate on 4940 samples\n",
      "Epoch 1/20\n",
      "44451/44451 [==============================] - 705s 16ms/step - loss: 1.5725 - accuracy: 0.2729 - val_loss: 1.5767 - val_accuracy: 0.2719\n",
      "Epoch 2/20\n",
      "44128/44451 [============================>.] - ETA: 5s - loss: 1.5704 - accuracy: 0.2744"
     ]
    }
   ],
   "source": [
    "history = model.fit(X_train, Y_train, \n",
    "                    epochs=20,\n",
    "                    validation_split=0.1, \n",
    "                    )\n",
    "# callbacks=[EarlyStopping(monitor='val_loss', patience=2, min_delta=0.0001)]"
   ]
  },
  {
   "cell_type": "code",
   "execution_count": null,
   "metadata": {
    "id": "zkx-I2SjnTPZ"
   },
   "outputs": [],
   "source": [
    "accr = model.evaluate(X_test,Y_test)\n",
    "print('Test set\\n  Loss: {:0.3f}\\n  Accuracy: {:0.3f}'.format(accr[0],accr[1]))"
   ]
  },
  {
   "cell_type": "code",
   "execution_count": null,
   "metadata": {
    "id": "nfFrUBmuo64f"
   },
   "outputs": [],
   "source": [
    "plt.title('Loss')\n",
    "plt.plot(history.history['loss'], label='train')\n",
    "plt.plot(history.history['val_loss'], label='test')\n",
    "plt.legend()\n",
    "plt.show();"
   ]
  },
  {
   "cell_type": "code",
   "execution_count": null,
   "metadata": {
    "id": "Nu-Z7_nio7CS"
   },
   "outputs": [],
   "source": [
    "plt.title('Accuracy')\n",
    "plt.plot(history.history['accuracy'], label='train')\n",
    "plt.plot(history.history['val_accuracy'], label='test')\n",
    "plt.legend()\n",
    "plt.show();"
   ]
  },
  {
   "cell_type": "code",
   "execution_count": null,
   "metadata": {
    "id": "FQN-3LcQPlMl"
   },
   "outputs": [],
   "source": [
    "pred = model.predict_proba(X_token_test)\n",
    "\n",
    "# submission\n",
    "sample_submission[['0','1','2','3','4']] = pred\n",
    "sample_submission"
   ]
  },
  {
   "cell_type": "code",
   "execution_count": null,
   "metadata": {
    "id": "8CDw2Yx3o6-B"
   },
   "outputs": [],
   "source": [
    "sample_submission.to_csv('submission_temp.csv', index = False, encoding = 'utf-8')"
   ]
  }
 ],
 "metadata": {
  "colab": {
   "name": "basic_LSTM.ipynb",
   "provenance": []
  },
  "kernelspec": {
   "display_name": "Python 3",
   "language": "python",
   "name": "python3"
  },
  "language_info": {
   "codemirror_mode": {
    "name": "ipython",
    "version": 3
   },
   "file_extension": ".py",
   "mimetype": "text/x-python",
   "name": "python",
   "nbconvert_exporter": "python",
   "pygments_lexer": "ipython3",
   "version": "3.7.3"
  }
 },
 "nbformat": 4,
 "nbformat_minor": 1
}
=======
  "nbformat": 4,
  "nbformat_minor": 0,
  "metadata": {
    "accelerator": "GPU",
    "colab": {
      "name": "basic_LSTM.ipynb",
      "provenance": [],
      "collapsed_sections": [],
      "authorship_tag": "ABX9TyOxq+VPVKkLJ6jz5oGD0/8u",
      "include_colab_link": true
    },
    "kernelspec": {
      "display_name": "Python 3",
      "name": "python3"
    }
  },
  "cells": [
    {
      "cell_type": "markdown",
      "metadata": {
        "id": "view-in-github",
        "colab_type": "text"
      },
      "source": [
        "<a href=\"https://colab.research.google.com/github/BaekKyunShin/Kaggle-Competition-Including-Dacon/blob/master/Novel_Writer_Classification/basic_LSTM.ipynb\" target=\"_parent\"><img src=\"https://colab.research.google.com/assets/colab-badge.svg\" alt=\"Open In Colab\"/></a>"
      ]
    },
    {
      "cell_type": "markdown",
      "metadata": {
        "id": "15yzlaEsAvMf"
      },
      "source": [
        "# Basic LSTM"
      ]
    },
    {
      "cell_type": "markdown",
      "metadata": {
        "id": "VwcEZT4gl4qo"
      },
      "source": [
        "function ClickConnect() { var buttons = document.querySelectorAll(\"colab-dialog.yes-no-dialog paper-button#cancel\"); buttons.forEach(function(btn) { btn.click(); }); console.log(\"10분마다 자동 재연결\"); document.querySelector(\"#top-toolbar > colab-connect-button\").click(); } setInterval(ClickConnect,1000*600)"
      ]
    },
    {
      "cell_type": "code",
      "metadata": {
        "id": "hhwjTDS9bFoj",
        "outputId": "844cce89-9386-4c5d-f547-6229f6e455da",
        "colab": {
          "base_uri": "https://localhost:8080/"
        }
      },
      "source": [
        "from google.colab import auth\n",
        "auth.authenticate_user()\n",
        "\n",
        "from google.colab import drive\n",
        "drive.mount('/content/gdrive', force_remount=True)"
      ],
      "execution_count": null,
      "outputs": [
        {
          "output_type": "stream",
          "text": [
            "Mounted at /content/gdrive\n"
          ],
          "name": "stdout"
        }
      ]
    },
    {
      "cell_type": "code",
      "metadata": {
        "id": "QgRJuiCB0fug"
      },
      "source": [
        "# %reload_ext autoreload\n",
        "# %autoreload 2"
      ],
      "execution_count": null,
      "outputs": []
    },
    {
      "cell_type": "code",
      "metadata": {
        "id": "Us6gWZ4z_nds",
        "outputId": "5f232de9-5a04-48d6-e1ee-154b6a0c0fa7",
        "colab": {
          "base_uri": "https://localhost:8080/"
        }
      },
      "source": [
        "!pip install pydot"
      ],
      "execution_count": null,
      "outputs": [
        {
          "output_type": "stream",
          "text": [
            "shell-init: error retrieving current directory: getcwd: cannot access parent directories: Transport endpoint is not connected\n",
            "shell-init: error retrieving current directory: getcwd: cannot access parent directories: Transport endpoint is not connected\n",
            "The folder you are executing pip from can no longer be found.\n"
          ],
          "name": "stdout"
        }
      ]
    },
    {
      "cell_type": "code",
      "metadata": {
        "id": "8bs5PrgibQqv"
      },
      "source": [
        "from matplotlib import rcParams, pyplot as plt\n",
        "\n",
        "import numpy as np\n",
        "import os\n",
        "import pandas as pd\n",
        "from pathlib import Path\n",
        "import re\n",
        "from sklearn.metrics import accuracy_score, log_loss\n",
        "from sklearn.model_selection import StratifiedKFold\n",
        "import tensorflow as tf\n",
        "from tensorflow.keras import Sequential\n",
        "from tensorflow.keras.layers import Dense, Embedding, LSTM, GlobalMaxPooling1D, Conv1D, Dropout, Bidirectional\n",
        "from tensorflow.keras.preprocessing.sequence import pad_sequences\n",
        "from tensorflow.keras.preprocessing.text import Tokenizer\n",
        "from tensorflow.keras.callbacks import EarlyStopping\n",
        "from tensorflow.keras.utils import plot_model, to_categorical\n",
        "from tensorflow.keras.optimizers import Adam\n",
        "\n",
        "import re\n",
        "import nltk\n",
        "from nltk.corpus import stopwords\n",
        "from nltk import word_tokenize\n",
        "import os\n",
        "import easydict"
      ],
      "execution_count": null,
      "outputs": []
    },
    {
      "cell_type": "code",
      "metadata": {
        "id": "_TxgoZgO0ofv",
        "outputId": "ea421125-ef57-4781-8a1a-1c9f1988ff49",
        "colab": {
          "base_uri": "https://localhost:8080/"
        }
      },
      "source": [
        "gpus = tf.config.list_physical_devices('GPU')\n",
        "if gpus:\n",
        "    # Restrict TensorFlow to only use the first GPU\n",
        "    try:\n",
        "        tf.config.set_visible_devices(gpus[0], 'GPU')\n",
        "        logical_gpus = tf.config.list_logical_devices('GPU')\n",
        "        print(len(gpus), \"Physical GPUs,\", len(logical_gpus), \"Logical GPU\")\n",
        "    except RuntimeError as e:\n",
        "        # Visible devices must be set before GPUs have been initialized\n",
        "        print(e)\n",
        "else:\n",
        "    print('No GPU detected')"
      ],
      "execution_count": null,
      "outputs": [
        {
          "output_type": "stream",
          "text": [
            "1 Physical GPUs, 1 Logical GPU\n"
          ],
          "name": "stdout"
        }
      ]
    },
    {
      "cell_type": "code",
      "metadata": {
        "id": "LH8FDMMIRfan",
        "outputId": "100c64ad-556a-40ff-9f57-cb50cafc6f84",
        "colab": {
          "base_uri": "https://localhost:8080/"
        }
      },
      "source": [
        "device = tf.test.gpu_device_name()\n",
        "print(device)\n",
        "print(tf.__version__)"
      ],
      "execution_count": null,
      "outputs": [
        {
          "output_type": "stream",
          "text": [
            "/device:GPU:0\n",
            "2.3.0\n"
          ],
          "name": "stdout"
        }
      ]
    },
    {
      "cell_type": "code",
      "metadata": {
        "id": "tCpw5N95bQoE"
      },
      "source": [
        "# 전역변수 설정\n",
        "args = easydict.EasyDict({ 'chdir': '/content/gdrive/My Drive/colab/Dacon_Novel_Writer_Classification/',\n",
        "                          'train_dir': 'open/train.csv', \n",
        "                          'test_dir': 'open/test_x.csv',\n",
        "                          'submission_dir': 'open/sample_submission.csv',\n",
        "                          'final_submission_dir': 'open/basic_LSTM_submission.csv',\n",
        "                          'model_dir': 'ckpt/',\n",
        "                          'n_fold': 5,\n",
        "                          'n_class': 5,\n",
        "                          'seed': 42,\n",
        "                          'vocab_size': 25000,\n",
        "                          'embedding_dim': 64,\n",
        "                          'max_length': 500,\n",
        "                          'padding_type':'post',\n",
        "})"
      ],
      "execution_count": null,
      "outputs": []
    },
    {
      "cell_type": "code",
      "metadata": {
        "id": "vMyxgyIQbVRk"
      },
      "source": [
        "# 경로 설정\n",
        "os.chdir(args.chdir)"
      ],
      "execution_count": null,
      "outputs": []
    },
    {
      "cell_type": "code",
      "metadata": {
        "id": "G8zXscy8bVyj"
      },
      "source": [
        "# model_dir 경로 생성\n",
        "if not os.path.isdir(args.model_dir) :\n",
        "    os.makedirs(args.model_dir)"
      ],
      "execution_count": null,
      "outputs": []
    },
    {
      "cell_type": "code",
      "metadata": {
        "id": "2E3P6KWQbV1g"
      },
      "source": [
        "# 파일 불러오기\n",
        "train = pd.read_csv(args.train_dir, encoding='utf-8')\n",
        "test = pd.read_csv(args.test_dir, encoding='utf-8')\n",
        "submission = pd.read_csv(args.submission_dir, encoding='utf-8')"
      ],
      "execution_count": null,
      "outputs": []
    },
    {
      "cell_type": "code",
      "metadata": {
        "id": "Z-Y3FBklbVvQ",
        "outputId": "812714db-f3c9-4259-96d8-05b8ef22f4d9",
        "colab": {
          "base_uri": "https://localhost:8080/",
          "height": 105
        }
      },
      "source": [
        "train.drop('index', axis=1, inplace=True)\n",
        "train.head(2)"
      ],
      "execution_count": null,
      "outputs": [
        {
          "output_type": "execute_result",
          "data": {
            "text/html": [
              "<div>\n",
              "<style scoped>\n",
              "    .dataframe tbody tr th:only-of-type {\n",
              "        vertical-align: middle;\n",
              "    }\n",
              "\n",
              "    .dataframe tbody tr th {\n",
              "        vertical-align: top;\n",
              "    }\n",
              "\n",
              "    .dataframe thead th {\n",
              "        text-align: right;\n",
              "    }\n",
              "</style>\n",
              "<table border=\"1\" class=\"dataframe\">\n",
              "  <thead>\n",
              "    <tr style=\"text-align: right;\">\n",
              "      <th></th>\n",
              "      <th>text</th>\n",
              "      <th>author</th>\n",
              "    </tr>\n",
              "  </thead>\n",
              "  <tbody>\n",
              "    <tr>\n",
              "      <th>0</th>\n",
              "      <td>He was almost choking. There was so much, so m...</td>\n",
              "      <td>3</td>\n",
              "    </tr>\n",
              "    <tr>\n",
              "      <th>1</th>\n",
              "      <td>“Your sister asked for it, I suppose?”</td>\n",
              "      <td>2</td>\n",
              "    </tr>\n",
              "  </tbody>\n",
              "</table>\n",
              "</div>"
            ],
            "text/plain": [
              "                                                text  author\n",
              "0  He was almost choking. There was so much, so m...       3\n",
              "1             “Your sister asked for it, I suppose?”       2"
            ]
          },
          "metadata": {
            "tags": []
          },
          "execution_count": 75
        }
      ]
    },
    {
      "cell_type": "code",
      "metadata": {
        "id": "JrBuSlU6bVW-",
        "outputId": "bead1a6e-f756-4756-9892-9ac8751beb59",
        "colab": {
          "base_uri": "https://localhost:8080/",
          "height": 105
        }
      },
      "source": [
        "test.drop('index', axis=1, inplace=True)\n",
        "test.head(2)"
      ],
      "execution_count": null,
      "outputs": [
        {
          "output_type": "execute_result",
          "data": {
            "text/html": [
              "<div>\n",
              "<style scoped>\n",
              "    .dataframe tbody tr th:only-of-type {\n",
              "        vertical-align: middle;\n",
              "    }\n",
              "\n",
              "    .dataframe tbody tr th {\n",
              "        vertical-align: top;\n",
              "    }\n",
              "\n",
              "    .dataframe thead th {\n",
              "        text-align: right;\n",
              "    }\n",
              "</style>\n",
              "<table border=\"1\" class=\"dataframe\">\n",
              "  <thead>\n",
              "    <tr style=\"text-align: right;\">\n",
              "      <th></th>\n",
              "      <th>text</th>\n",
              "    </tr>\n",
              "  </thead>\n",
              "  <tbody>\n",
              "    <tr>\n",
              "      <th>0</th>\n",
              "      <td>“Not at all. I think she is one of the most ch...</td>\n",
              "    </tr>\n",
              "    <tr>\n",
              "      <th>1</th>\n",
              "      <td>\"No,\" replied he, with sudden consciousness, \"...</td>\n",
              "    </tr>\n",
              "  </tbody>\n",
              "</table>\n",
              "</div>"
            ],
            "text/plain": [
              "                                                text\n",
              "0  “Not at all. I think she is one of the most ch...\n",
              "1  \"No,\" replied he, with sudden consciousness, \"..."
            ]
          },
          "metadata": {
            "tags": []
          },
          "execution_count": 76
        }
      ]
    },
    {
      "cell_type": "code",
      "metadata": {
        "id": "PzmwLGS6bVUc",
        "outputId": "b28d4686-cec1-4398-8470-4827b6950eff",
        "colab": {
          "base_uri": "https://localhost:8080/",
          "height": 105
        }
      },
      "source": [
        "submission.head(2)"
      ],
      "execution_count": null,
      "outputs": [
        {
          "output_type": "execute_result",
          "data": {
            "text/html": [
              "<div>\n",
              "<style scoped>\n",
              "    .dataframe tbody tr th:only-of-type {\n",
              "        vertical-align: middle;\n",
              "    }\n",
              "\n",
              "    .dataframe tbody tr th {\n",
              "        vertical-align: top;\n",
              "    }\n",
              "\n",
              "    .dataframe thead th {\n",
              "        text-align: right;\n",
              "    }\n",
              "</style>\n",
              "<table border=\"1\" class=\"dataframe\">\n",
              "  <thead>\n",
              "    <tr style=\"text-align: right;\">\n",
              "      <th></th>\n",
              "      <th>index</th>\n",
              "      <th>0</th>\n",
              "      <th>1</th>\n",
              "      <th>2</th>\n",
              "      <th>3</th>\n",
              "      <th>4</th>\n",
              "    </tr>\n",
              "  </thead>\n",
              "  <tbody>\n",
              "    <tr>\n",
              "      <th>0</th>\n",
              "      <td>0</td>\n",
              "      <td>0</td>\n",
              "      <td>0</td>\n",
              "      <td>0</td>\n",
              "      <td>0</td>\n",
              "      <td>0</td>\n",
              "    </tr>\n",
              "    <tr>\n",
              "      <th>1</th>\n",
              "      <td>1</td>\n",
              "      <td>0</td>\n",
              "      <td>0</td>\n",
              "      <td>0</td>\n",
              "      <td>0</td>\n",
              "      <td>0</td>\n",
              "    </tr>\n",
              "  </tbody>\n",
              "</table>\n",
              "</div>"
            ],
            "text/plain": [
              "   index  0  1  2  3  4\n",
              "0      0  0  0  0  0  0\n",
              "1      1  0  0  0  0  0"
            ]
          },
          "metadata": {
            "tags": []
          },
          "execution_count": 77
        }
      ]
    },
    {
      "cell_type": "markdown",
      "metadata": {
        "id": "MLm37CheeO_e"
      },
      "source": [
        "# 전처리"
      ]
    },
    {
      "cell_type": "code",
      "metadata": {
        "id": "WYbTUx7ldpIP",
        "outputId": "b8cd4e41-c891-4bb1-8a4a-9e3fcdcf9ef1",
        "colab": {
          "base_uri": "https://localhost:8080/"
        }
      },
      "source": [
        "# 불용어\n",
        "basic_stopwords = { \"a\", \"about\", \"above\", \"after\", \"again\", \"against\", \"all\", \"am\", \"an\", \"and\", \"any\", \"are\", \"as\", \n",
        "             \"at\", \"be\", \"because\", \"been\", \"before\", \"being\", \"below\", \"between\", \"both\", \"but\", \"by\", \"could\", \n",
        "             \"did\", \"do\", \"does\", \"doing\", \"down\", \"during\", \"each\", \"few\", \"for\", \"from\", \"further\", \"had\", \"has\", \n",
        "             \"have\", \"having\", \"he\", \"he'd\", \"he'll\", \"he's\", \"her\", \"here\", \"here's\", \"hers\", \"herself\", \"him\", \"himself\", \n",
        "             \"his\", \"how\", \"how's\", \"i\", \"i'd\", \"i'll\", \"i'm\", \"i've\", \"if\", \"in\", \"into\", \"is\", \"it\", \"it's\", \"its\", \"itself\", \n",
        "             \"let's\", \"me\", \"more\", \"most\", \"my\", \"myself\", \"nor\", \"of\", \"on\", \"once\", \"only\", \"or\", \"other\", \"ought\", \"our\", \"ours\", \n",
        "             \"ourselves\", \"out\", \"over\", \"own\", \"same\", \"she\", \"she'd\", \"she'll\", \"she's\", \"should\", \"so\", \"some\", \"such\", \"than\", \"that\", \n",
        "             \"that's\", \"the\", \"their\", \"theirs\", \"them\", \"themselves\", \"then\", \"there\", \"there's\", \"these\", \"they\", \"they'd\", \"they'll\", \n",
        "             \"they're\", \"they've\", \"this\", \"those\", \"through\", \"to\", \"too\", \"under\", \"until\", \"up\", \"very\", \"was\", \"we\", \"we'd\", \"we'll\", \n",
        "             \"we're\", \"we've\", \"were\", \"what\", \"what's\", \"when\", \"when's\", \"where\", \"where's\", \"which\", \"while\", \"who\", \"who's\", \"whom\", \n",
        "             \"why\", \"why's\", \"with\", \"would\", \"you\", \"you'd\", \"you'll\", \"you're\", \"you've\", \"your\", \"yours\", \"yourself\", \"yourselves\" }\n",
        "\n",
        "nltk.download('stopwords')\n",
        "nltk_stopwords = set(stopwords.words('english'))\n",
        "\n",
        "final_stopwords = nltk_stopwords.union(basic_stopwords)"
      ],
      "execution_count": null,
      "outputs": [
        {
          "output_type": "stream",
          "text": [
            "[nltk_data] Downloading package stopwords to /root/nltk_data...\n",
            "[nltk_data]   Package stopwords is already up-to-date!\n"
          ],
          "name": "stdout"
        }
      ]
    },
    {
      "cell_type": "code",
      "metadata": {
        "id": "uR9Y1SX2bayy"
      },
      "source": [
        "# 부호를 제거해주는 함수\n",
        "def alpha_num(text):\n",
        "    return re.sub(r'[^A-Za-z0-9 ]', '', text)\n",
        "\n",
        "# 불용어 제거해주는 함수\n",
        "def remove_stopwords(text: str):\n",
        "    final_text = []\n",
        "    for i in text.split():\n",
        "        if i.strip().lower() not in final_stopwords:\n",
        "            final_text.append(i.strip())\n",
        "    return \" \".join(final_text)\n",
        "    \n",
        "# 전처리 적용\n",
        "train['text']=train['text'].apply(alpha_num)\n",
        "test['text']=test['text'].apply(alpha_num)\n",
        "train['text'] = train['text'].str.lower()\n",
        "test['text'] = test['text'].str.lower()\n",
        "train['text'] = train['text'].apply(alpha_num).apply(remove_stopwords)\n",
        "test['text'] = test['text'].apply(alpha_num).apply(remove_stopwords)"
      ],
      "execution_count": null,
      "outputs": []
    },
    {
      "cell_type": "code",
      "metadata": {
        "id": "SkZqzH5Yff1Q",
        "outputId": "36dca023-0975-499f-9482-81ca1184f537",
        "colab": {
          "base_uri": "https://localhost:8080/"
        }
      },
      "source": [
        "X_train = train['text'].values\n",
        "X_test = test['text'].values\n",
        "y = train['author'].values\n",
        "print(X_train.shape, X_test.shape, y.shape)"
      ],
      "execution_count": null,
      "outputs": [
        {
          "output_type": "stream",
          "text": [
            "(54879,) (19617,) (54879,)\n"
          ],
          "name": "stdout"
        }
      ]
    },
    {
      "cell_type": "markdown",
      "metadata": {
        "id": "yZa_ZTOYeQec"
      },
      "source": [
        "# 토크나이징"
      ]
    },
    {
      "cell_type": "code",
      "metadata": {
        "id": "KeZBCNHsba4-",
        "outputId": "b831cb8a-93ed-4f00-f3cc-63f0876f977c",
        "colab": {
          "base_uri": "https://localhost:8080/"
        }
      },
      "source": [
        "tokenizer = Tokenizer(num_words=args.vocab_size, filters='!\"#$%&()*+,-./:;<=>?@[\\]^_`{|}~',  oov_token=\"<OOV>\")\n",
        "tokenizer.fit_on_texts(X_train)\n",
        "word_index = tokenizer.word_index\n",
        "print('Found %s unique tokens.' % len(word_index))"
      ],
      "execution_count": null,
      "outputs": [
        {
          "output_type": "stream",
          "text": [
            "Found 47118 unique tokens.\n"
          ],
          "name": "stdout"
        }
      ]
    },
    {
      "cell_type": "code",
      "metadata": {
        "id": "ipmUQeOpba19",
        "outputId": "c73a5adf-7e14-4f74-dad4-2908bc87965c",
        "colab": {
          "base_uri": "https://localhost:8080/"
        }
      },
      "source": [
        "train_sequences = tokenizer.texts_to_sequences(X_train)\n",
        "test_sequences = tokenizer.texts_to_sequences(X_test)\n",
        "print(X_train[:3])\n",
        "print(train_sequences[:3])"
      ],
      "execution_count": null,
      "outputs": [
        {
          "output_type": "stream",
          "text": [
            "['almost choking much much wanted say strange exclamations came lips pole gazed fixedly bundle notes hand looked odin evident perplexity'\n",
            " 'sister asked suppose'\n",
            " 'engaged one day walked perusing janes last letter dwelling passages proved jane written spirits instead surprised mr odin saw looking odin meeting putting away letter immediately forcing smile said']\n",
            "[[135, 7244, 17, 17, 310, 18, 223, 3058, 32, 446, 2725, 1195, 5011, 1694, 1200, 41, 53, 2, 1207, 2818], [211, 54, 215], [675, 4, 55, 244, 13184, 4732, 34, 188, 4528, 4733, 1225, 479, 618, 493, 692, 495, 5, 2, 73, 101, 2, 664, 855, 46, 188, 418, 5310, 283, 3]]\n"
          ],
          "name": "stdout"
        }
      ]
    },
    {
      "cell_type": "code",
      "metadata": {
        "id": "Pr2xHcecbavk",
        "outputId": "14904864-32e2-477e-de71-720f638d9231",
        "colab": {
          "base_uri": "https://localhost:8080/"
        }
      },
      "source": [
        "trn = pad_sequences(train_sequences, maxlen=args.max_length, padding=args.padding_type)\n",
        "tst = pad_sequences(test_sequences, maxlen=args.max_length, padding=args.padding_type)\n",
        "print(trn.shape, tst.shape)"
      ],
      "execution_count": null,
      "outputs": [
        {
          "output_type": "stream",
          "text": [
            "(54879, 500) (19617, 500)\n"
          ],
          "name": "stdout"
        }
      ]
    },
    {
      "cell_type": "markdown",
      "metadata": {
        "id": "2k-UxTqE51yG"
      },
      "source": [
        "# 모델링"
      ]
    },
    {
      "cell_type": "code",
      "metadata": {
        "id": "sMGfJWNB5yjB"
      },
      "source": [
        "kfold = StratifiedKFold(n_splits=args.n_fold, shuffle=True, random_state=args.seed)"
      ],
      "execution_count": null,
      "outputs": []
    },
    {
      "cell_type": "code",
      "metadata": {
        "id": "nyeCW3Oq5ypd"
      },
      "source": [
        "initializer = tf.keras.initializers.HeNormal(seed=1991)\n",
        "\n",
        "def get_model():\n",
        "    model = Sequential([\n",
        "                        Embedding(input_dim=args.vocab_size, output_dim=args.embedding_dim, input_length=args.max_length),\n",
        "                        Bidirectional(LSTM(64, return_sequences=True)),\n",
        "\n",
        "                        Dropout(0.1),\n",
        "                        Bidirectional(LSTM(64)),\n",
        "                        Dropout(0.1),\n",
        "                        Dense(args.n_class, activation='softmax', kernel_initializer=initializer)\n",
        "    ])\n",
        "    model.compile(loss='categorical_crossentropy', optimizer=Adam(learning_rate=0.01))\n",
        "    return model"
      ],
      "execution_count": null,
      "outputs": []
    },
    {
      "cell_type": "code",
      "metadata": {
        "id": "wttRBYSgZqUk"
      },
      "source": [
        "initializer2 = tf.keras.initializers.HeNormal(seed=1984)\n",
        "\n",
        "def get_model2():\n",
        "    model = Sequential([\n",
        "                        Embedding(input_dim=args.vocab_size, output_dim=args.embedding_dim, input_length=args.max_length),\n",
        "                        Bidirectional(LSTM(64)),\n",
        "                        Dropout(0.1),\n",
        "                        Dense(32, activation='relu', kernel_initializer=initializer2),\n",
        "                        Dropout(0.1),\n",
        "                        Dense(args.n_class, activation='softmax', kernel_initializer=initializer2)\n",
        "    ])\n",
        "    model.compile(loss='categorical_crossentropy', optimizer=Adam(learning_rate=0.01))\n",
        "    return model"
      ],
      "execution_count": null,
      "outputs": []
    },
    {
      "cell_type": "code",
      "metadata": {
        "id": "2QeSScUXcp8N",
        "outputId": "f7c483bd-e249-4f3d-b54c-387643a55c7f",
        "colab": {
          "base_uri": "https://localhost:8080/"
        }
      },
      "source": [
        "p_val = np.zeros((trn.shape[0], args.n_class))\n",
        "p_tst = np.zeros((tst.shape[0], args.n_class))\n",
        "for i, (trn_idx, val_idx) in enumerate(kfold.split(trn, y)):\n",
        "    print(f'training model for CV #{i}')\n",
        "    clf = get_model()\n",
        "    \n",
        "    es = EarlyStopping(monitor='val_loss', min_delta=0.01, patience=3,\n",
        "                       verbose=1, mode='min', baseline=None, restore_best_weights=True)\n",
        "\n",
        "    clf.fit(trn[trn_idx], to_categorical(y[trn_idx]),\n",
        "            validation_data=(trn[val_idx], to_categorical(y[val_idx])),\n",
        "            epochs=10,\n",
        "            batch_size=256,\n",
        "            callbacks=[es])\n",
        "    p_val[val_idx, :] = clf.predict(trn[val_idx])\n",
        "    p_tst += clf.predict(tst) / args.n_fold"
      ],
      "execution_count": null,
      "outputs": [
        {
          "output_type": "stream",
          "text": [
            "training model for CV #0\n",
            "Epoch 1/10\n",
            "172/172 [==============================] - 31s 182ms/step - loss: 1.0138 - val_loss: 0.7663\n",
            "Epoch 2/10\n",
            "172/172 [==============================] - 30s 172ms/step - loss: 0.5596 - val_loss: 0.7606\n",
            "Epoch 3/10\n",
            "172/172 [==============================] - 30s 173ms/step - loss: 0.3992 - val_loss: 0.8281\n",
            "Epoch 4/10\n",
            "172/172 [==============================] - ETA: 0s - loss: 0.3126Restoring model weights from the end of the best epoch.\n",
            "172/172 [==============================] - 30s 172ms/step - loss: 0.3126 - val_loss: 0.9076\n",
            "Epoch 00004: early stopping\n",
            "training model for CV #1\n",
            "Epoch 1/10\n",
            "172/172 [==============================] - 31s 178ms/step - loss: 1.0242 - val_loss: 0.8038\n",
            "Epoch 2/10\n",
            "172/172 [==============================] - 30s 174ms/step - loss: 0.5729 - val_loss: 0.7626\n",
            "Epoch 3/10\n",
            "172/172 [==============================] - 30s 174ms/step - loss: 0.4058 - val_loss: 0.8011\n",
            "Epoch 4/10\n",
            "172/172 [==============================] - 30s 174ms/step - loss: 0.3190 - val_loss: 0.9161\n",
            "Epoch 5/10\n",
            "172/172 [==============================] - ETA: 0s - loss: 0.2650Restoring model weights from the end of the best epoch.\n",
            "172/172 [==============================] - 30s 174ms/step - loss: 0.2650 - val_loss: 0.9935\n",
            "Epoch 00005: early stopping\n",
            "training model for CV #2\n",
            "Epoch 1/10\n",
            "172/172 [==============================] - 31s 180ms/step - loss: 1.0381 - val_loss: 0.7918\n",
            "Epoch 2/10\n",
            "172/172 [==============================] - 30s 174ms/step - loss: 0.5838 - val_loss: 0.7421\n",
            "Epoch 3/10\n",
            "172/172 [==============================] - 30s 172ms/step - loss: 0.4125 - val_loss: 0.7845\n",
            "Epoch 4/10\n",
            "172/172 [==============================] - 30s 172ms/step - loss: 0.3224 - val_loss: 0.8945\n",
            "Epoch 5/10\n",
            "172/172 [==============================] - ETA: 0s - loss: 0.2647Restoring model weights from the end of the best epoch.\n",
            "172/172 [==============================] - 30s 172ms/step - loss: 0.2647 - val_loss: 0.9834\n",
            "Epoch 00005: early stopping\n",
            "training model for CV #3\n",
            "Epoch 1/10\n",
            "172/172 [==============================] - 31s 181ms/step - loss: 1.0077 - val_loss: 0.7985\n",
            "Epoch 2/10\n",
            "172/172 [==============================] - 30s 175ms/step - loss: 0.5629 - val_loss: 0.7529\n",
            "Epoch 3/10\n",
            "172/172 [==============================] - 30s 174ms/step - loss: 0.3980 - val_loss: 0.7858\n",
            "Epoch 4/10\n",
            "172/172 [==============================] - 30s 175ms/step - loss: 0.3141 - val_loss: 0.9303\n",
            "Epoch 5/10\n",
            "172/172 [==============================] - ETA: 0s - loss: 0.2679Restoring model weights from the end of the best epoch.\n",
            "172/172 [==============================] - 30s 175ms/step - loss: 0.2679 - val_loss: 0.9718\n",
            "Epoch 00005: early stopping\n",
            "training model for CV #4\n",
            "Epoch 1/10\n",
            "172/172 [==============================] - 31s 180ms/step - loss: 1.0159 - val_loss: 0.7945\n",
            "Epoch 2/10\n",
            "172/172 [==============================] - 30s 174ms/step - loss: 0.5683 - val_loss: 0.7126\n",
            "Epoch 3/10\n",
            "172/172 [==============================] - 30s 175ms/step - loss: 0.3972 - val_loss: 0.8265\n",
            "Epoch 4/10\n",
            "172/172 [==============================] - 30s 175ms/step - loss: 0.3100 - val_loss: 0.9336\n",
            "Epoch 5/10\n",
            "172/172 [==============================] - ETA: 0s - loss: 0.2622Restoring model weights from the end of the best epoch.\n",
            "172/172 [==============================] - 30s 175ms/step - loss: 0.2622 - val_loss: 1.0132\n",
            "Epoch 00005: early stopping\n"
          ],
          "name": "stdout"
        }
      ]
    },
    {
      "cell_type": "code",
      "metadata": {
        "id": "f9E132515yxX",
        "outputId": "8ba74298-2890-4102-97a1-9795149795e1",
        "colab": {
          "base_uri": "https://localhost:8080/"
        }
      },
      "source": [
        "p_val2 = np.zeros((trn.shape[0], args.n_class))\n",
        "p_tst2 = np.zeros((tst.shape[0], args.n_class))\n",
        "for i, (trn_idx, val_idx) in enumerate(kfold.split(trn, y)):\n",
        "    print(f'training model for CV #{i}')\n",
        "    clf2 = get_model2()\n",
        "    \n",
        "    es = EarlyStopping(monitor='val_loss', min_delta=0.01, patience=3,\n",
        "                       verbose=1, mode='min', baseline=None, restore_best_weights=True)\n",
        "\n",
        "    clf2.fit(trn[trn_idx], to_categorical(y[trn_idx]),\n",
        "            validation_data=(trn[val_idx], to_categorical(y[val_idx])),\n",
        "            epochs=10,\n",
        "            batch_size=256,\n",
        "            callbacks=[es])\n",
        "    p_val2[val_idx, :] = clf2.predict(trn[val_idx])\n",
        "    p_tst2 += clf2.predict(tst) / args.n_fold"
      ],
      "execution_count": null,
      "outputs": [
        {
          "output_type": "stream",
          "text": [
            "training model for CV #0\n",
            "Epoch 1/10\n",
            "172/172 [==============================] - 16s 93ms/step - loss: 1.0244 - val_loss: 0.7772\n",
            "Epoch 2/10\n",
            "172/172 [==============================] - 15s 90ms/step - loss: 0.5758 - val_loss: 0.7569\n",
            "Epoch 3/10\n",
            "172/172 [==============================] - 15s 89ms/step - loss: 0.4171 - val_loss: 0.8174\n",
            "Epoch 4/10\n",
            "172/172 [==============================] - 15s 89ms/step - loss: 0.3265 - val_loss: 0.9164\n",
            "Epoch 5/10\n",
            "172/172 [==============================] - ETA: 0s - loss: 0.2746Restoring model weights from the end of the best epoch.\n",
            "172/172 [==============================] - 15s 89ms/step - loss: 0.2746 - val_loss: 0.9556\n",
            "Epoch 00005: early stopping\n",
            "training model for CV #1\n",
            "Epoch 1/10\n",
            "172/172 [==============================] - 16s 94ms/step - loss: 1.0223 - val_loss: 0.8064\n",
            "Epoch 2/10\n",
            "172/172 [==============================] - 15s 90ms/step - loss: 0.5790 - val_loss: 0.7688\n",
            "Epoch 3/10\n",
            "172/172 [==============================] - 15s 89ms/step - loss: 0.4112 - val_loss: 0.8135\n",
            "Epoch 4/10\n",
            "172/172 [==============================] - 15s 90ms/step - loss: 0.3208 - val_loss: 0.9134\n",
            "Epoch 5/10\n",
            "172/172 [==============================] - ETA: 0s - loss: 0.2719Restoring model weights from the end of the best epoch.\n",
            "172/172 [==============================] - 15s 90ms/step - loss: 0.2719 - val_loss: 0.9829\n",
            "Epoch 00005: early stopping\n",
            "training model for CV #2\n",
            "Epoch 1/10\n",
            "172/172 [==============================] - 16s 95ms/step - loss: 1.0293 - val_loss: 0.7733\n",
            "Epoch 2/10\n",
            "172/172 [==============================] - 16s 90ms/step - loss: 0.5879 - val_loss: 0.7481\n",
            "Epoch 3/10\n",
            "172/172 [==============================] - 16s 91ms/step - loss: 0.4167 - val_loss: 0.7895\n",
            "Epoch 4/10\n",
            "172/172 [==============================] - 16s 90ms/step - loss: 0.3258 - val_loss: 0.9285\n",
            "Epoch 5/10\n",
            "172/172 [==============================] - ETA: 0s - loss: 0.2671Restoring model weights from the end of the best epoch.\n",
            "172/172 [==============================] - 16s 91ms/step - loss: 0.2671 - val_loss: 1.0249\n",
            "Epoch 00005: early stopping\n",
            "training model for CV #3\n",
            "Epoch 1/10\n",
            "172/172 [==============================] - 16s 94ms/step - loss: 1.0191 - val_loss: 0.7737\n",
            "Epoch 2/10\n",
            "172/172 [==============================] - 16s 91ms/step - loss: 0.5789 - val_loss: 0.7201\n",
            "Epoch 3/10\n",
            "172/172 [==============================] - 16s 90ms/step - loss: 0.4051 - val_loss: 0.7861\n",
            "Epoch 4/10\n",
            "172/172 [==============================] - 16s 90ms/step - loss: 0.3135 - val_loss: 0.9421\n",
            "Epoch 5/10\n",
            "172/172 [==============================] - ETA: 0s - loss: 0.2646Restoring model weights from the end of the best epoch.\n",
            "172/172 [==============================] - 16s 91ms/step - loss: 0.2646 - val_loss: 1.0327\n",
            "Epoch 00005: early stopping\n",
            "training model for CV #4\n",
            "Epoch 1/10\n",
            "172/172 [==============================] - 16s 93ms/step - loss: 1.0757 - val_loss: 0.8022\n",
            "Epoch 2/10\n",
            "172/172 [==============================] - 16s 91ms/step - loss: 0.5973 - val_loss: 0.7368\n",
            "Epoch 3/10\n",
            "172/172 [==============================] - 16s 91ms/step - loss: 0.4267 - val_loss: 0.7808\n",
            "Epoch 4/10\n",
            "172/172 [==============================] - 15s 90ms/step - loss: 0.3341 - val_loss: 0.8652\n",
            "Epoch 5/10\n",
            "172/172 [==============================] - ETA: 0s - loss: 0.2795Restoring model weights from the end of the best epoch.\n",
            "172/172 [==============================] - 16s 91ms/step - loss: 0.2795 - val_loss: 0.9467\n",
            "Epoch 00005: early stopping\n"
          ],
          "name": "stdout"
        }
      ]
    },
    {
      "cell_type": "code",
      "metadata": {
        "id": "ztnOhfS45y6M",
        "outputId": "aaab872e-e329-4c48-dfc8-2404fffaaa04",
        "colab": {
          "base_uri": "https://localhost:8080/"
        }
      },
      "source": [
        "print(f'Accuracy (CV): {accuracy_score(y, np.argmax(p_val, axis=1)) * 100:8.4f}%')\n",
        "print(f'Log Loss (CV): {log_loss(pd.get_dummies(y), p_val):8.4f}')"
      ],
      "execution_count": null,
      "outputs": [
        {
          "output_type": "stream",
          "text": [
            "Accuracy (CV):  72.8803%\n",
            "Log Loss (CV):   0.7473\n"
          ],
          "name": "stdout"
        }
      ]
    },
    {
      "cell_type": "code",
      "metadata": {
        "id": "z8VKR0Qxc-za",
        "outputId": "629f1eba-3d87-4f1e-8986-1948112b1957",
        "colab": {
          "base_uri": "https://localhost:8080/"
        }
      },
      "source": [
        "print(f'Accuracy (CV): {accuracy_score(y, np.argmax(p_val2, axis=1)) * 100:8.4f}%')\n",
        "print(f'Log Loss (CV): {log_loss(pd.get_dummies(y), p_val2):8.4f}')"
      ],
      "execution_count": null,
      "outputs": [
        {
          "output_type": "stream",
          "text": [
            "Accuracy (CV):  72.8439%\n",
            "Log Loss (CV):   0.7461\n"
          ],
          "name": "stdout"
        }
      ]
    },
    {
      "cell_type": "markdown",
      "metadata": {
        "id": "Ffz3N7PWa-4a"
      },
      "source": [
        "get_model: Accuracy (CV):  72.9696%, Log Loss (CV):   0.7355\n",
        "\n",
        "\n",
        "get_model2: Accuracy (CV):  72.8166%, Log Loss (CV):   0.7474\n"
      ]
    },
    {
      "cell_type": "code",
      "metadata": {
        "id": "Y2XDgk875y02",
        "outputId": "49990523-5649-42ca-ca6c-8edec3fc4f79",
        "colab": {
          "base_uri": "https://localhost:8080/"
        }
      },
      "source": [
        "print(clf.summary())"
      ],
      "execution_count": null,
      "outputs": [
        {
          "output_type": "stream",
          "text": [
            "Model: \"sequential_28\"\n",
            "_________________________________________________________________\n",
            "Layer (type)                 Output Shape              Param #   \n",
            "=================================================================\n",
            "embedding_28 (Embedding)     (None, 500, 64)           1600000   \n",
            "_________________________________________________________________\n",
            "bidirectional_44 (Bidirectio (None, 500, 128)          66048     \n",
            "_________________________________________________________________\n",
            "dropout_51 (Dropout)         (None, 500, 128)          0         \n",
            "_________________________________________________________________\n",
            "bidirectional_45 (Bidirectio (None, 128)               98816     \n",
            "_________________________________________________________________\n",
            "dropout_52 (Dropout)         (None, 128)               0         \n",
            "_________________________________________________________________\n",
            "dense_40 (Dense)             (None, 5)                 645       \n",
            "=================================================================\n",
            "Total params: 1,765,509\n",
            "Trainable params: 1,765,509\n",
            "Non-trainable params: 0\n",
            "_________________________________________________________________\n",
            "None\n"
          ],
          "name": "stdout"
        }
      ]
    },
    {
      "cell_type": "code",
      "metadata": {
        "id": "SbVsgnUpc8fC",
        "outputId": "838587e8-3ea8-48f5-afd9-58ec1bf50343",
        "colab": {
          "base_uri": "https://localhost:8080/"
        }
      },
      "source": [
        "print(clf2.summary())"
      ],
      "execution_count": null,
      "outputs": [
        {
          "output_type": "stream",
          "text": [
            "Model: \"sequential_33\"\n",
            "_________________________________________________________________\n",
            "Layer (type)                 Output Shape              Param #   \n",
            "=================================================================\n",
            "embedding_33 (Embedding)     (None, 500, 64)           1600000   \n",
            "_________________________________________________________________\n",
            "bidirectional_50 (Bidirectio (None, 128)               66048     \n",
            "_________________________________________________________________\n",
            "dropout_61 (Dropout)         (None, 128)               0         \n",
            "_________________________________________________________________\n",
            "dense_49 (Dense)             (None, 32)                4128      \n",
            "_________________________________________________________________\n",
            "dropout_62 (Dropout)         (None, 32)                0         \n",
            "_________________________________________________________________\n",
            "dense_50 (Dense)             (None, 5)                 165       \n",
            "=================================================================\n",
            "Total params: 1,670,341\n",
            "Trainable params: 1,670,341\n",
            "Non-trainable params: 0\n",
            "_________________________________________________________________\n",
            "None\n"
          ],
          "name": "stdout"
        }
      ]
    },
    {
      "cell_type": "code",
      "metadata": {
        "id": "_kcj2cde5yt8",
        "outputId": "3947ecd1-520a-4715-8a88-5fe7d40cadc1",
        "colab": {
          "base_uri": "https://localhost:8080/",
          "height": 661
        }
      },
      "source": [
        "plot_model(clf)"
      ],
      "execution_count": null,
      "outputs": [
        {
          "output_type": "execute_result",
          "data": {
            "image/png": "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\n",
            "text/plain": [
              "<IPython.core.display.Image object>"
            ]
          },
          "metadata": {
            "tags": []
          },
          "execution_count": 93
        }
      ]
    },
    {
      "cell_type": "code",
      "metadata": {
        "id": "t1UuqC6vc7cJ",
        "outputId": "342ce243-6cfd-4245-b730-2640d369367c",
        "colab": {
          "base_uri": "https://localhost:8080/"
        }
      },
      "source": [
        "plot_model(clf2)"
      ],
      "execution_count": null,
      "outputs": [
        {
          "output_type": "execute_result",
          "data": {
            "image/png": "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\n",
            "text/plain": [
              "<IPython.core.display.Image object>"
            ]
          },
          "metadata": {
            "tags": []
          },
          "execution_count": 94
        }
      ]
    },
    {
      "cell_type": "markdown",
      "metadata": {
        "id": "Fzr9eseo_7Lx"
      },
      "source": [
        "# 제출"
      ]
    },
    {
      "cell_type": "code",
      "metadata": {
        "id": "w_JldP9q5ymU",
        "outputId": "1d755e11-4d7d-4e73-a3b2-379daff7b872",
        "colab": {
          "base_uri": "https://localhost:8080/"
        }
      },
      "source": [
        "submission[['0', '1', '2' , '3', '4']] = p_tst * 0.5 + p_tst2 * 0.5\n",
        "submission.head()"
      ],
      "execution_count": null,
      "outputs": [
        {
          "output_type": "execute_result",
          "data": {
            "text/html": [
              "<div>\n",
              "<style scoped>\n",
              "    .dataframe tbody tr th:only-of-type {\n",
              "        vertical-align: middle;\n",
              "    }\n",
              "\n",
              "    .dataframe tbody tr th {\n",
              "        vertical-align: top;\n",
              "    }\n",
              "\n",
              "    .dataframe thead th {\n",
              "        text-align: right;\n",
              "    }\n",
              "</style>\n",
              "<table border=\"1\" class=\"dataframe\">\n",
              "  <thead>\n",
              "    <tr style=\"text-align: right;\">\n",
              "      <th></th>\n",
              "      <th>index</th>\n",
              "      <th>0</th>\n",
              "      <th>1</th>\n",
              "      <th>2</th>\n",
              "      <th>3</th>\n",
              "      <th>4</th>\n",
              "    </tr>\n",
              "  </thead>\n",
              "  <tbody>\n",
              "    <tr>\n",
              "      <th>0</th>\n",
              "      <td>0</td>\n",
              "      <td>0.052986</td>\n",
              "      <td>0.461287</td>\n",
              "      <td>0.259596</td>\n",
              "      <td>0.217942</td>\n",
              "      <td>0.008189</td>\n",
              "    </tr>\n",
              "    <tr>\n",
              "      <th>1</th>\n",
              "      <td>1</td>\n",
              "      <td>0.161836</td>\n",
              "      <td>0.506544</td>\n",
              "      <td>0.015744</td>\n",
              "      <td>0.038101</td>\n",
              "      <td>0.277775</td>\n",
              "    </tr>\n",
              "    <tr>\n",
              "      <th>2</th>\n",
              "      <td>2</td>\n",
              "      <td>0.957265</td>\n",
              "      <td>0.018514</td>\n",
              "      <td>0.011977</td>\n",
              "      <td>0.002784</td>\n",
              "      <td>0.009460</td>\n",
              "    </tr>\n",
              "    <tr>\n",
              "      <th>3</th>\n",
              "      <td>3</td>\n",
              "      <td>0.011069</td>\n",
              "      <td>0.007121</td>\n",
              "      <td>0.945289</td>\n",
              "      <td>0.016675</td>\n",
              "      <td>0.019845</td>\n",
              "    </tr>\n",
              "    <tr>\n",
              "      <th>4</th>\n",
              "      <td>4</td>\n",
              "      <td>0.436407</td>\n",
              "      <td>0.105976</td>\n",
              "      <td>0.022091</td>\n",
              "      <td>0.219603</td>\n",
              "      <td>0.215923</td>\n",
              "    </tr>\n",
              "  </tbody>\n",
              "</table>\n",
              "</div>"
            ],
            "text/plain": [
              "   index         0         1         2         3         4\n",
              "0      0  0.052986  0.461287  0.259596  0.217942  0.008189\n",
              "1      1  0.161836  0.506544  0.015744  0.038101  0.277775\n",
              "2      2  0.957265  0.018514  0.011977  0.002784  0.009460\n",
              "3      3  0.011069  0.007121  0.945289  0.016675  0.019845\n",
              "4      4  0.436407  0.105976  0.022091  0.219603  0.215923"
            ]
          },
          "metadata": {
            "tags": []
          },
          "execution_count": 95
        }
      ]
    },
    {
      "cell_type": "code",
      "metadata": {
        "id": "fNzUE92DAawr"
      },
      "source": [
        "submission.to_csv(args.final_submission_dir, index=False, encoding = 'utf-8')"
      ],
      "execution_count": null,
      "outputs": []
    },
    {
      "cell_type": "code",
      "metadata": {
        "id": "5wRs_H2kbccP"
      },
      "source": [
        ""
      ],
      "execution_count": null,
      "outputs": []
    }
  ]
}
>>>>>>> 2c3f2ff0a6d638249da6dbde921631176df3f7c3
